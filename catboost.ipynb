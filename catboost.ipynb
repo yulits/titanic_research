{
 "cells": [
  {
   "cell_type": "code",
   "execution_count": 2,
   "metadata": {},
   "outputs": [],
   "source": [
    "import warnings\n",
    "warnings.filterwarnings('ignore')"
   ]
  },
  {
   "cell_type": "code",
   "execution_count": 3,
   "metadata": {},
   "outputs": [],
   "source": [
    "import pandas as pd\n",
    "import matplotlib.pyplot as plt \n",
    "import numpy as np\n",
    "import re\n",
    "from sklearn.model_selection import StratifiedKFold, GridSearchCV, train_test_split\n",
    "from sklearn.metrics import roc_auc_score, accuracy_score\n",
    "from catboost import CatBoostClassifier"
   ]
  },
  {
   "cell_type": "code",
   "execution_count": 4,
   "metadata": {},
   "outputs": [],
   "source": [
    "RANDOM_STATE = 5\n",
    "train = pd.read_csv('train.csv', index_col='PassengerId')\n",
    "test = pd.read_csv('test.csv', index_col='PassengerId')"
   ]
  },
  {
   "cell_type": "code",
   "execution_count": 8,
   "metadata": {
    "scrolled": true
   },
   "outputs": [
    {
     "data": {
      "text/plain": [
       "Survived    891\n",
       "Pclass      891\n",
       "Name        891\n",
       "Sex         891\n",
       "Age         714\n",
       "SibSp       891\n",
       "Parch       891\n",
       "Ticket      891\n",
       "Fare        891\n",
       "Cabin       204\n",
       "Embarked    889\n",
       "dtype: int64"
      ]
     },
     "execution_count": 8,
     "metadata": {},
     "output_type": "execute_result"
    }
   ],
   "source": [
    "train.count()"
   ]
  },
  {
   "cell_type": "code",
   "execution_count": 5,
   "metadata": {},
   "outputs": [],
   "source": [
    "train = pd.read_csv('train.csv', index_col='PassengerId')\n",
    "test = pd.read_csv('test.csv', index_col='PassengerId')\n",
    "y_train = train['Survived']\n",
    "X_train = train.drop(['Survived'], axis=1)\n",
    "X_test = test.copy()\n",
    "\n",
    "X_full = [X_train, X_test]\n",
    "\n",
    "def get_title(name):\n",
    "    title_search = re.search('([A-Za-z]+)\\.', name)\n",
    "    if title_search:\n",
    "        return title_search.group(1)\n",
    "    else:\n",
    "        return \"\"\n",
    "\n",
    "for df in X_full:\n",
    "    df['FamilySize'] = df['SibSp'] + df['Parch'] + 1\n",
    "\n",
    "    df['IsAlone'] = df['FamilySize'].apply(lambda x: 1 if x == 1 else 0)\n",
    "\n",
    "    df['Embarked'] = df['Embarked'].fillna('S')\n",
    "#     df['Embarked'] = df['Embarked'].map({'S': 0, 'C': 1, 'Q': 2})\n",
    "\n",
    "    df['Fare'] = df['Fare'].fillna(X_train['Fare'].median())\n",
    "\n",
    "    age_mean = X_train['Age'].mean()\n",
    "    age_std = X_train['Age'].std()\n",
    "    age_null_count = df['Age'].isnull().sum()\n",
    "    age_null_random_list = np.random.randint(age_mean - age_std, age_mean + age_std, size=age_null_count)\n",
    "    df['Age'][np.isnan(df['Age'])] = age_null_random_list\n",
    "    df['Age'] = df['Age'].astype(int)\n",
    "\n",
    "#     df['Sex'] = df['Sex'].map({'male': 0, 'female': 1}).astype(int)\n",
    "    \n",
    "    df['Title'] = df['Name'].apply(get_title)\n",
    "\n",
    "    df['Title'] = df['Title'].replace(['Lady', 'Countess','Capt', 'Col','Don', \n",
    "                                       'Dr', 'Major', 'Rev', 'Sir', 'Jonkheer', 'Dona'], 'Rare')\n",
    "\n",
    "    df['Title'] = df['Title'].replace('Mlle', 'Miss')\n",
    "    df['Title'] = df['Title'].replace('Ms', 'Miss')\n",
    "    df['Title'] = df['Title'].replace('Mme', 'Mrs')\n",
    "    \n",
    "#     title_mapping = {\"Mr\": 1, \"Miss\": 2, \"Mrs\": 3, \"Master\": 4, \"Rare\": 5}\n",
    "#     df['Title'] = df['Title'].map(title_mapping)\n",
    "    df['Title'] = df['Title'].fillna('0')\n",
    "    \n",
    "    df.loc[ df['Fare'] <= 7.91, 'Fare'] = 0\n",
    "    df.loc[(df['Fare'] > 7.91) & (df['Fare'] <= 14.454), 'Fare'] = 1\n",
    "    df.loc[(df['Fare'] > 14.454) & (df['Fare'] <= 31), 'Fare']   = 2\n",
    "    df.loc[ df['Fare'] > 31, 'Fare'] = 3\n",
    "    df['Fare'] = df['Fare'].astype(int)\n",
    "    \n",
    "    # Mapping Age\n",
    "    df.loc[ df['Age'] <= 16, 'Age'] = 0\n",
    "    df.loc[(df['Age'] > 16) & (df['Age'] <= 32), 'Age'] = 1\n",
    "    df.loc[(df['Age'] > 32) & (df['Age'] <= 48), 'Age'] = 2\n",
    "    df.loc[(df['Age'] > 48) & (df['Age'] <= 64), 'Age'] = 3\n",
    "    df.loc[ df['Age'] > 64, 'Age'] = 4\n",
    "    \n",
    "    df.drop(['Name', 'Ticket', 'Cabin', 'SibSp'], axis=1, inplace=True)"
   ]
  },
  {
   "cell_type": "code",
   "execution_count": 10,
   "metadata": {},
   "outputs": [
    {
     "name": "stdout",
     "output_type": "stream",
     "text": [
      "<class 'pandas.core.frame.DataFrame'>\n",
      "Int64Index: 891 entries, 1 to 891\n",
      "Data columns (total 9 columns):\n",
      "Pclass        891 non-null int64\n",
      "Sex           891 non-null object\n",
      "Age           891 non-null int64\n",
      "Parch         891 non-null int64\n",
      "Fare          891 non-null int64\n",
      "Embarked      891 non-null object\n",
      "FamilySize    891 non-null int64\n",
      "IsAlone       891 non-null int64\n",
      "Title         891 non-null object\n",
      "dtypes: int64(6), object(3)\n",
      "memory usage: 69.6+ KB\n"
     ]
    }
   ],
   "source": [
    "X_train.info()"
   ]
  },
  {
   "cell_type": "code",
   "execution_count": 11,
   "metadata": {},
   "outputs": [],
   "source": [
    "X, y = X_train, y_train"
   ]
  },
  {
   "cell_type": "code",
   "execution_count": 6,
   "metadata": {},
   "outputs": [],
   "source": [
    "X_train_concat_feat = X_train.copy()\n",
    "cols = X_train.columns\n",
    "for i in range(len(cols)):\n",
    "    for j in range(i+1, len(cols)):\n",
    "        feature = '%s_%s' % (cols[i], cols[j])\n",
    "        X_train_concat_feat[feature] = X_train[cols[i]].map(str) + '_' + X_train[cols[j]].map(str)"
   ]
  },
  {
   "cell_type": "code",
   "execution_count": 13,
   "metadata": {},
   "outputs": [
    {
     "data": {
      "text/html": [
       "<div>\n",
       "<style scoped>\n",
       "    .dataframe tbody tr th:only-of-type {\n",
       "        vertical-align: middle;\n",
       "    }\n",
       "\n",
       "    .dataframe tbody tr th {\n",
       "        vertical-align: top;\n",
       "    }\n",
       "\n",
       "    .dataframe thead th {\n",
       "        text-align: right;\n",
       "    }\n",
       "</style>\n",
       "<table border=\"1\" class=\"dataframe\">\n",
       "  <thead>\n",
       "    <tr style=\"text-align: right;\">\n",
       "      <th></th>\n",
       "      <th>Pclass</th>\n",
       "      <th>Sex</th>\n",
       "      <th>Age</th>\n",
       "      <th>Parch</th>\n",
       "      <th>Fare</th>\n",
       "      <th>Embarked</th>\n",
       "      <th>FamilySize</th>\n",
       "      <th>IsAlone</th>\n",
       "      <th>Title</th>\n",
       "      <th>Pclass_Sex</th>\n",
       "      <th>...</th>\n",
       "      <th>Fare_Embarked</th>\n",
       "      <th>Fare_FamilySize</th>\n",
       "      <th>Fare_IsAlone</th>\n",
       "      <th>Fare_Title</th>\n",
       "      <th>Embarked_FamilySize</th>\n",
       "      <th>Embarked_IsAlone</th>\n",
       "      <th>Embarked_Title</th>\n",
       "      <th>FamilySize_IsAlone</th>\n",
       "      <th>FamilySize_Title</th>\n",
       "      <th>IsAlone_Title</th>\n",
       "    </tr>\n",
       "    <tr>\n",
       "      <th>PassengerId</th>\n",
       "      <th></th>\n",
       "      <th></th>\n",
       "      <th></th>\n",
       "      <th></th>\n",
       "      <th></th>\n",
       "      <th></th>\n",
       "      <th></th>\n",
       "      <th></th>\n",
       "      <th></th>\n",
       "      <th></th>\n",
       "      <th></th>\n",
       "      <th></th>\n",
       "      <th></th>\n",
       "      <th></th>\n",
       "      <th></th>\n",
       "      <th></th>\n",
       "      <th></th>\n",
       "      <th></th>\n",
       "      <th></th>\n",
       "      <th></th>\n",
       "      <th></th>\n",
       "    </tr>\n",
       "  </thead>\n",
       "  <tbody>\n",
       "    <tr>\n",
       "      <th>1</th>\n",
       "      <td>3</td>\n",
       "      <td>male</td>\n",
       "      <td>1</td>\n",
       "      <td>0</td>\n",
       "      <td>0</td>\n",
       "      <td>S</td>\n",
       "      <td>2</td>\n",
       "      <td>0</td>\n",
       "      <td>Mr</td>\n",
       "      <td>3_male</td>\n",
       "      <td>...</td>\n",
       "      <td>0_S</td>\n",
       "      <td>0_2</td>\n",
       "      <td>0_0</td>\n",
       "      <td>0_Mr</td>\n",
       "      <td>S_2</td>\n",
       "      <td>S_0</td>\n",
       "      <td>S_Mr</td>\n",
       "      <td>2_0</td>\n",
       "      <td>2_Mr</td>\n",
       "      <td>0_Mr</td>\n",
       "    </tr>\n",
       "    <tr>\n",
       "      <th>2</th>\n",
       "      <td>1</td>\n",
       "      <td>female</td>\n",
       "      <td>2</td>\n",
       "      <td>0</td>\n",
       "      <td>3</td>\n",
       "      <td>C</td>\n",
       "      <td>2</td>\n",
       "      <td>0</td>\n",
       "      <td>Mrs</td>\n",
       "      <td>1_female</td>\n",
       "      <td>...</td>\n",
       "      <td>3_C</td>\n",
       "      <td>3_2</td>\n",
       "      <td>3_0</td>\n",
       "      <td>3_Mrs</td>\n",
       "      <td>C_2</td>\n",
       "      <td>C_0</td>\n",
       "      <td>C_Mrs</td>\n",
       "      <td>2_0</td>\n",
       "      <td>2_Mrs</td>\n",
       "      <td>0_Mrs</td>\n",
       "    </tr>\n",
       "    <tr>\n",
       "      <th>3</th>\n",
       "      <td>3</td>\n",
       "      <td>female</td>\n",
       "      <td>1</td>\n",
       "      <td>0</td>\n",
       "      <td>1</td>\n",
       "      <td>S</td>\n",
       "      <td>1</td>\n",
       "      <td>1</td>\n",
       "      <td>Miss</td>\n",
       "      <td>3_female</td>\n",
       "      <td>...</td>\n",
       "      <td>1_S</td>\n",
       "      <td>1_1</td>\n",
       "      <td>1_1</td>\n",
       "      <td>1_Miss</td>\n",
       "      <td>S_1</td>\n",
       "      <td>S_1</td>\n",
       "      <td>S_Miss</td>\n",
       "      <td>1_1</td>\n",
       "      <td>1_Miss</td>\n",
       "      <td>1_Miss</td>\n",
       "    </tr>\n",
       "    <tr>\n",
       "      <th>4</th>\n",
       "      <td>1</td>\n",
       "      <td>female</td>\n",
       "      <td>2</td>\n",
       "      <td>0</td>\n",
       "      <td>3</td>\n",
       "      <td>S</td>\n",
       "      <td>2</td>\n",
       "      <td>0</td>\n",
       "      <td>Mrs</td>\n",
       "      <td>1_female</td>\n",
       "      <td>...</td>\n",
       "      <td>3_S</td>\n",
       "      <td>3_2</td>\n",
       "      <td>3_0</td>\n",
       "      <td>3_Mrs</td>\n",
       "      <td>S_2</td>\n",
       "      <td>S_0</td>\n",
       "      <td>S_Mrs</td>\n",
       "      <td>2_0</td>\n",
       "      <td>2_Mrs</td>\n",
       "      <td>0_Mrs</td>\n",
       "    </tr>\n",
       "    <tr>\n",
       "      <th>5</th>\n",
       "      <td>3</td>\n",
       "      <td>male</td>\n",
       "      <td>2</td>\n",
       "      <td>0</td>\n",
       "      <td>1</td>\n",
       "      <td>S</td>\n",
       "      <td>1</td>\n",
       "      <td>1</td>\n",
       "      <td>Mr</td>\n",
       "      <td>3_male</td>\n",
       "      <td>...</td>\n",
       "      <td>1_S</td>\n",
       "      <td>1_1</td>\n",
       "      <td>1_1</td>\n",
       "      <td>1_Mr</td>\n",
       "      <td>S_1</td>\n",
       "      <td>S_1</td>\n",
       "      <td>S_Mr</td>\n",
       "      <td>1_1</td>\n",
       "      <td>1_Mr</td>\n",
       "      <td>1_Mr</td>\n",
       "    </tr>\n",
       "  </tbody>\n",
       "</table>\n",
       "<p>5 rows × 45 columns</p>\n",
       "</div>"
      ],
      "text/plain": [
       "             Pclass     Sex  Age  Parch  Fare Embarked  FamilySize  IsAlone  \\\n",
       "PassengerId                                                                   \n",
       "1                 3    male    1      0     0        S           2        0   \n",
       "2                 1  female    2      0     3        C           2        0   \n",
       "3                 3  female    1      0     1        S           1        1   \n",
       "4                 1  female    2      0     3        S           2        0   \n",
       "5                 3    male    2      0     1        S           1        1   \n",
       "\n",
       "            Title Pclass_Sex      ...      Fare_Embarked Fare_FamilySize  \\\n",
       "PassengerId                       ...                                      \n",
       "1              Mr     3_male      ...                0_S             0_2   \n",
       "2             Mrs   1_female      ...                3_C             3_2   \n",
       "3            Miss   3_female      ...                1_S             1_1   \n",
       "4             Mrs   1_female      ...                3_S             3_2   \n",
       "5              Mr     3_male      ...                1_S             1_1   \n",
       "\n",
       "            Fare_IsAlone Fare_Title Embarked_FamilySize Embarked_IsAlone  \\\n",
       "PassengerId                                                                \n",
       "1                    0_0       0_Mr                 S_2              S_0   \n",
       "2                    3_0      3_Mrs                 C_2              C_0   \n",
       "3                    1_1     1_Miss                 S_1              S_1   \n",
       "4                    3_0      3_Mrs                 S_2              S_0   \n",
       "5                    1_1       1_Mr                 S_1              S_1   \n",
       "\n",
       "            Embarked_Title FamilySize_IsAlone FamilySize_Title IsAlone_Title  \n",
       "PassengerId                                                                   \n",
       "1                     S_Mr                2_0             2_Mr          0_Mr  \n",
       "2                    C_Mrs                2_0            2_Mrs         0_Mrs  \n",
       "3                   S_Miss                1_1           1_Miss        1_Miss  \n",
       "4                    S_Mrs                2_0            2_Mrs         0_Mrs  \n",
       "5                     S_Mr                1_1             1_Mr          1_Mr  \n",
       "\n",
       "[5 rows x 45 columns]"
      ]
     },
     "execution_count": 13,
     "metadata": {},
     "output_type": "execute_result"
    }
   ],
   "source": [
    "X_train_concat_feat.head()"
   ]
  },
  {
   "cell_type": "code",
   "execution_count": 7,
   "metadata": {},
   "outputs": [],
   "source": [
    "X_test_concat_feat = X_test.copy()\n",
    "cols = X_test.columns\n",
    "for i in range(len(cols)):\n",
    "    for j in range(i+1, len(cols)):\n",
    "        feature = '%s_%s' % (cols[i], cols[j])\n",
    "        X_test_concat_feat[feature] = X_test[cols[i]].map(str) + '_' + X_test[cols[j]].map(str)"
   ]
  },
  {
   "cell_type": "code",
   "execution_count": 33,
   "metadata": {},
   "outputs": [
    {
     "data": {
      "text/html": [
       "<div>\n",
       "<style scoped>\n",
       "    .dataframe tbody tr th:only-of-type {\n",
       "        vertical-align: middle;\n",
       "    }\n",
       "\n",
       "    .dataframe tbody tr th {\n",
       "        vertical-align: top;\n",
       "    }\n",
       "\n",
       "    .dataframe thead th {\n",
       "        text-align: right;\n",
       "    }\n",
       "</style>\n",
       "<table border=\"1\" class=\"dataframe\">\n",
       "  <thead>\n",
       "    <tr style=\"text-align: right;\">\n",
       "      <th></th>\n",
       "      <th>Pclass</th>\n",
       "      <th>Sex</th>\n",
       "      <th>Age</th>\n",
       "      <th>Parch</th>\n",
       "      <th>Fare</th>\n",
       "      <th>Embarked</th>\n",
       "      <th>FamilySize</th>\n",
       "      <th>IsAlone</th>\n",
       "      <th>Title</th>\n",
       "      <th>Pclass_Sex</th>\n",
       "      <th>...</th>\n",
       "      <th>Fare_Embarked</th>\n",
       "      <th>Fare_FamilySize</th>\n",
       "      <th>Fare_IsAlone</th>\n",
       "      <th>Fare_Title</th>\n",
       "      <th>Embarked_FamilySize</th>\n",
       "      <th>Embarked_IsAlone</th>\n",
       "      <th>Embarked_Title</th>\n",
       "      <th>FamilySize_IsAlone</th>\n",
       "      <th>FamilySize_Title</th>\n",
       "      <th>IsAlone_Title</th>\n",
       "    </tr>\n",
       "    <tr>\n",
       "      <th>PassengerId</th>\n",
       "      <th></th>\n",
       "      <th></th>\n",
       "      <th></th>\n",
       "      <th></th>\n",
       "      <th></th>\n",
       "      <th></th>\n",
       "      <th></th>\n",
       "      <th></th>\n",
       "      <th></th>\n",
       "      <th></th>\n",
       "      <th></th>\n",
       "      <th></th>\n",
       "      <th></th>\n",
       "      <th></th>\n",
       "      <th></th>\n",
       "      <th></th>\n",
       "      <th></th>\n",
       "      <th></th>\n",
       "      <th></th>\n",
       "      <th></th>\n",
       "      <th></th>\n",
       "    </tr>\n",
       "  </thead>\n",
       "  <tbody>\n",
       "    <tr>\n",
       "      <th>892</th>\n",
       "      <td>3</td>\n",
       "      <td>male</td>\n",
       "      <td>2</td>\n",
       "      <td>0</td>\n",
       "      <td>0</td>\n",
       "      <td>Q</td>\n",
       "      <td>1</td>\n",
       "      <td>1</td>\n",
       "      <td>Mr</td>\n",
       "      <td>3_male</td>\n",
       "      <td>...</td>\n",
       "      <td>0_Q</td>\n",
       "      <td>0_1</td>\n",
       "      <td>0_1</td>\n",
       "      <td>0_Mr</td>\n",
       "      <td>Q_1</td>\n",
       "      <td>Q_1</td>\n",
       "      <td>Q_Mr</td>\n",
       "      <td>1_1</td>\n",
       "      <td>1_Mr</td>\n",
       "      <td>1_Mr</td>\n",
       "    </tr>\n",
       "    <tr>\n",
       "      <th>893</th>\n",
       "      <td>3</td>\n",
       "      <td>female</td>\n",
       "      <td>2</td>\n",
       "      <td>0</td>\n",
       "      <td>0</td>\n",
       "      <td>S</td>\n",
       "      <td>2</td>\n",
       "      <td>0</td>\n",
       "      <td>Mrs</td>\n",
       "      <td>3_female</td>\n",
       "      <td>...</td>\n",
       "      <td>0_S</td>\n",
       "      <td>0_2</td>\n",
       "      <td>0_0</td>\n",
       "      <td>0_Mrs</td>\n",
       "      <td>S_2</td>\n",
       "      <td>S_0</td>\n",
       "      <td>S_Mrs</td>\n",
       "      <td>2_0</td>\n",
       "      <td>2_Mrs</td>\n",
       "      <td>0_Mrs</td>\n",
       "    </tr>\n",
       "    <tr>\n",
       "      <th>894</th>\n",
       "      <td>2</td>\n",
       "      <td>male</td>\n",
       "      <td>3</td>\n",
       "      <td>0</td>\n",
       "      <td>1</td>\n",
       "      <td>Q</td>\n",
       "      <td>1</td>\n",
       "      <td>1</td>\n",
       "      <td>Mr</td>\n",
       "      <td>2_male</td>\n",
       "      <td>...</td>\n",
       "      <td>1_Q</td>\n",
       "      <td>1_1</td>\n",
       "      <td>1_1</td>\n",
       "      <td>1_Mr</td>\n",
       "      <td>Q_1</td>\n",
       "      <td>Q_1</td>\n",
       "      <td>Q_Mr</td>\n",
       "      <td>1_1</td>\n",
       "      <td>1_Mr</td>\n",
       "      <td>1_Mr</td>\n",
       "    </tr>\n",
       "    <tr>\n",
       "      <th>895</th>\n",
       "      <td>3</td>\n",
       "      <td>male</td>\n",
       "      <td>1</td>\n",
       "      <td>0</td>\n",
       "      <td>1</td>\n",
       "      <td>S</td>\n",
       "      <td>1</td>\n",
       "      <td>1</td>\n",
       "      <td>Mr</td>\n",
       "      <td>3_male</td>\n",
       "      <td>...</td>\n",
       "      <td>1_S</td>\n",
       "      <td>1_1</td>\n",
       "      <td>1_1</td>\n",
       "      <td>1_Mr</td>\n",
       "      <td>S_1</td>\n",
       "      <td>S_1</td>\n",
       "      <td>S_Mr</td>\n",
       "      <td>1_1</td>\n",
       "      <td>1_Mr</td>\n",
       "      <td>1_Mr</td>\n",
       "    </tr>\n",
       "    <tr>\n",
       "      <th>896</th>\n",
       "      <td>3</td>\n",
       "      <td>female</td>\n",
       "      <td>1</td>\n",
       "      <td>1</td>\n",
       "      <td>1</td>\n",
       "      <td>S</td>\n",
       "      <td>3</td>\n",
       "      <td>0</td>\n",
       "      <td>Mrs</td>\n",
       "      <td>3_female</td>\n",
       "      <td>...</td>\n",
       "      <td>1_S</td>\n",
       "      <td>1_3</td>\n",
       "      <td>1_0</td>\n",
       "      <td>1_Mrs</td>\n",
       "      <td>S_3</td>\n",
       "      <td>S_0</td>\n",
       "      <td>S_Mrs</td>\n",
       "      <td>3_0</td>\n",
       "      <td>3_Mrs</td>\n",
       "      <td>0_Mrs</td>\n",
       "    </tr>\n",
       "  </tbody>\n",
       "</table>\n",
       "<p>5 rows × 45 columns</p>\n",
       "</div>"
      ],
      "text/plain": [
       "             Pclass     Sex  Age  Parch  Fare Embarked  FamilySize  IsAlone  \\\n",
       "PassengerId                                                                   \n",
       "892               3    male    2      0     0        Q           1        1   \n",
       "893               3  female    2      0     0        S           2        0   \n",
       "894               2    male    3      0     1        Q           1        1   \n",
       "895               3    male    1      0     1        S           1        1   \n",
       "896               3  female    1      1     1        S           3        0   \n",
       "\n",
       "            Title Pclass_Sex      ...      Fare_Embarked Fare_FamilySize  \\\n",
       "PassengerId                       ...                                      \n",
       "892            Mr     3_male      ...                0_Q             0_1   \n",
       "893           Mrs   3_female      ...                0_S             0_2   \n",
       "894            Mr     2_male      ...                1_Q             1_1   \n",
       "895            Mr     3_male      ...                1_S             1_1   \n",
       "896           Mrs   3_female      ...                1_S             1_3   \n",
       "\n",
       "            Fare_IsAlone Fare_Title Embarked_FamilySize Embarked_IsAlone  \\\n",
       "PassengerId                                                                \n",
       "892                  0_1       0_Mr                 Q_1              Q_1   \n",
       "893                  0_0      0_Mrs                 S_2              S_0   \n",
       "894                  1_1       1_Mr                 Q_1              Q_1   \n",
       "895                  1_1       1_Mr                 S_1              S_1   \n",
       "896                  1_0      1_Mrs                 S_3              S_0   \n",
       "\n",
       "            Embarked_Title FamilySize_IsAlone FamilySize_Title IsAlone_Title  \n",
       "PassengerId                                                                   \n",
       "892                   Q_Mr                1_1             1_Mr          1_Mr  \n",
       "893                  S_Mrs                2_0            2_Mrs         0_Mrs  \n",
       "894                   Q_Mr                1_1             1_Mr          1_Mr  \n",
       "895                   S_Mr                1_1             1_Mr          1_Mr  \n",
       "896                  S_Mrs                3_0            3_Mrs         0_Mrs  \n",
       "\n",
       "[5 rows x 45 columns]"
      ]
     },
     "execution_count": 33,
     "metadata": {},
     "output_type": "execute_result"
    }
   ],
   "source": [
    "X_test_concat_feat.head()"
   ]
  },
  {
   "cell_type": "code",
   "execution_count": 14,
   "metadata": {},
   "outputs": [],
   "source": []
  },
  {
   "cell_type": "code",
   "execution_count": 8,
   "metadata": {},
   "outputs": [],
   "source": [
    "cat_features = []\n",
    "for i, col in enumerate(X_train_concat_feat.dtypes):\n",
    "    if col == object:\n",
    "        cat_features.append(i)"
   ]
  },
  {
   "cell_type": "code",
   "execution_count": 28,
   "metadata": {},
   "outputs": [],
   "source": [
    "X_train_1, X_valid, y_train_1, y_valid = \\\n",
    "        train_test_split(X_train_concat_feat, y_train, test_size=0.33, random_state=RANDOM_STATE)"
   ]
  },
  {
   "cell_type": "code",
   "execution_count": null,
   "metadata": {},
   "outputs": [],
   "source": []
  },
  {
   "cell_type": "code",
   "execution_count": 123,
   "metadata": {},
   "outputs": [],
   "source": [
    "# specify the training parameters \n",
    "model = CatBoostClassifier(iterations=100, depth=5, learning_rate=1, \n",
    "                           loss_function='Logloss', logging_level='Silent')\n",
    "#train the model\n",
    "model.fit(X_train_1, y_train_1, cat_features=cat_features)\n",
    "# make the prediction using the resulting model\n",
    "y_preds = model.predict(X_valid)\n",
    "# preds_proba = model.predict_proba(test_data)"
   ]
  },
  {
   "cell_type": "code",
   "execution_count": 129,
   "metadata": {
    "scrolled": true
   },
   "outputs": [
    {
     "data": {
      "text/plain": [
       "0.8338983050847457"
      ]
     },
     "execution_count": 129,
     "metadata": {},
     "output_type": "execute_result"
    }
   ],
   "source": [
    "accuracy_score(y_valid, y_preds)"
   ]
  },
  {
   "cell_type": "code",
   "execution_count": 18,
   "metadata": {},
   "outputs": [],
   "source": [
    "skf = StratifiedKFold(n_splits=5, shuffle=True, random_state=RANDOM_STATE)"
   ]
  },
  {
   "cell_type": "code",
   "execution_count": 23,
   "metadata": {},
   "outputs": [
    {
     "name": "stdout",
     "output_type": "stream",
     "text": [
      "{'depth': 7, 'iterations': 300, 'learning_rate': 0.01, 'loss_function': 'Logloss'}\n",
      "CPU times: user 38min 10s, sys: 3min 27s, total: 41min 37s\n",
      "Wall time: 5min 33s\n"
     ]
    }
   ],
   "source": [
    "%%time\n",
    "cat = CatBoostClassifier(random_seed=RANDOM_STATE,  \n",
    "                        logging_level='Silent',\n",
    "                        cat_features=cat_features)\n",
    "gs = GridSearchCV(estimator=cat, param_grid={'learning_rate': [1, 0.5, 0.1, 0.05, 0.01, 0.005, 0.001],\n",
    "                                            'iterations': [300],\n",
    "                                            'depth': [7],\n",
    "                                            'loss_function': ['Logloss', 'CrossEntropy']},\n",
    "                  scoring='accuracy', cv=skf)\n",
    "gs.fit(X_train_concat_feat, y_train);\n",
    "print(gs.best_params_)"
   ]
  },
  {
   "cell_type": "code",
   "execution_count": null,
   "metadata": {},
   "outputs": [],
   "source": []
  },
  {
   "cell_type": "code",
   "execution_count": 29,
   "metadata": {},
   "outputs": [],
   "source": [
    "# specify the training parameters \n",
    "model = CatBoostClassifier(iterations=500, depth=7, learning_rate=0.01, \n",
    "                           loss_function='Logloss', logging_level='Silent')\n",
    "#train the model\n",
    "model.fit(X_train_1, y_train_1, cat_features=cat_features)\n",
    "# make the prediction using the resulting model\n",
    "y_preds = model.predict(X_valid)\n",
    "# preds_proba = model.predict_proba(test_data)"
   ]
  },
  {
   "cell_type": "code",
   "execution_count": 30,
   "metadata": {
    "scrolled": true
   },
   "outputs": [
    {
     "data": {
      "text/plain": [
       "0.8440677966101695"
      ]
     },
     "execution_count": 30,
     "metadata": {},
     "output_type": "execute_result"
    }
   ],
   "source": [
    "accuracy_score(y_valid, y_preds)"
   ]
  },
  {
   "cell_type": "code",
   "execution_count": 9,
   "metadata": {},
   "outputs": [
    {
     "data": {
      "text/plain": [
       "((891, 45), (891, 11))"
      ]
     },
     "execution_count": 9,
     "metadata": {},
     "output_type": "execute_result"
    }
   ],
   "source": [
    "X_train_concat_feat.shape, train.shape"
   ]
  },
  {
   "cell_type": "markdown",
   "metadata": {},
   "source": [
    "### Submission #002"
   ]
  },
  {
   "cell_type": "code",
   "execution_count": 10,
   "metadata": {},
   "outputs": [],
   "source": [
    "# specify the training parameters \n",
    "model = CatBoostClassifier(iterations=500, depth=7, learning_rate=0.01, \n",
    "                           loss_function='Logloss', logging_level='Silent',\n",
    "                          cat_features=cat_features, random_seed=RANDOM_STATE)\n",
    "#train the model\n",
    "model.fit(X_train_concat_feat, y_train)\n",
    "# make the prediction using the resulting model\n",
    "y_preds = model.predict(X_test_concat_feat).astype(int)\n",
    "# preds_proba = model.predict_proba(test_data)"
   ]
  },
  {
   "cell_type": "code",
   "execution_count": 11,
   "metadata": {},
   "outputs": [
    {
     "data": {
      "text/plain": [
       "0    263\n",
       "1    155\n",
       "Name: Survived, dtype: int64"
      ]
     },
     "execution_count": 11,
     "metadata": {},
     "output_type": "execute_result"
    }
   ],
   "source": [
    "y_fin = pd.DataFrame(y_preds, columns=['Survived'], index=X_test.index)\n",
    "y_fin.Survived.value_counts()"
   ]
  },
  {
   "cell_type": "code",
   "execution_count": 46,
   "metadata": {},
   "outputs": [],
   "source": [
    "y_fin.to_csv('submissions/cat_002.csv', header=True, index_label='PassengerId') "
   ]
  },
  {
   "cell_type": "code",
   "execution_count": null,
   "metadata": {},
   "outputs": [],
   "source": []
  },
  {
   "cell_type": "markdown",
   "metadata": {},
   "source": [
    "### Submission #003"
   ]
  },
  {
   "cell_type": "code",
   "execution_count": 17,
   "metadata": {},
   "outputs": [],
   "source": [
    "# specify the training parameters \n",
    "model = CatBoostClassifier(iterations=2000, depth=7, learning_rate=0.01, \n",
    "                           loss_function='Logloss', logging_level='Silent',\n",
    "                          cat_features=cat_features, random_seed=RANDOM_STATE)\n",
    "#train the model\n",
    "model.fit(X_train_concat_feat, y_train)\n",
    "# make the prediction using the resulting model\n",
    "y_preds = model.predict(X_test_concat_feat).astype(int)\n",
    "# preds_proba = model.predict_proba(test_data)"
   ]
  },
  {
   "cell_type": "code",
   "execution_count": 18,
   "metadata": {},
   "outputs": [
    {
     "data": {
      "text/plain": [
       "0    263\n",
       "1    155\n",
       "Name: Survived, dtype: int64"
      ]
     },
     "execution_count": 18,
     "metadata": {},
     "output_type": "execute_result"
    }
   ],
   "source": [
    "y_fin = pd.DataFrame(y_preds, columns=['Survived'], index=X_test.index)\n",
    "y_fin.Survived.value_counts()"
   ]
  },
  {
   "cell_type": "code",
   "execution_count": 14,
   "metadata": {},
   "outputs": [],
   "source": [
    "y_fin.to_csv('submissions/cat_003.csv', header=True, index_label='PassengerId') "
   ]
  }
 ],
 "metadata": {
  "kernelspec": {
   "display_name": "Python 3",
   "language": "python",
   "name": "python3"
  },
  "language_info": {
   "codemirror_mode": {
    "name": "ipython",
    "version": 3
   },
   "file_extension": ".py",
   "mimetype": "text/x-python",
   "name": "python",
   "nbconvert_exporter": "python",
   "pygments_lexer": "ipython3",
   "version": "3.6.5"
  }
 },
 "nbformat": 4,
 "nbformat_minor": 2
}
