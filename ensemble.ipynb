{
 "cells": [
  {
   "cell_type": "code",
   "execution_count": 1,
   "metadata": {},
   "outputs": [],
   "source": [
    "import warnings\n",
    "warnings.filterwarnings('ignore')"
   ]
  },
  {
   "cell_type": "code",
   "execution_count": 2,
   "metadata": {},
   "outputs": [
    {
     "data": {
      "text/html": [
       "<script>requirejs.config({paths: { 'plotly': ['https://cdn.plot.ly/plotly-latest.min']},});if(!window.Plotly) {{require(['plotly'],function(plotly) {window.Plotly=plotly;});}}</script>"
      ],
      "text/vnd.plotly.v1+html": [
       "<script>requirejs.config({paths: { 'plotly': ['https://cdn.plot.ly/plotly-latest.min']},});if(!window.Plotly) {{require(['plotly'],function(plotly) {window.Plotly=plotly;});}}</script>"
      ]
     },
     "metadata": {},
     "output_type": "display_data"
    }
   ],
   "source": [
    "import pandas as pd\n",
    "import matplotlib.pyplot as plt \n",
    "import numpy as np\n",
    "import seaborn as sns\n",
    "from sklearn.model_selection import train_test_split, cross_val_score, StratifiedKFold, KFold\n",
    "from sklearn.neighbors import KNeighborsClassifier\n",
    "from sklearn.linear_model import LogisticRegression, LogisticRegressionCV, SGDClassifier\n",
    "from sklearn.metrics import accuracy_score, roc_auc_score\n",
    "from sklearn.model_selection import GridSearchCV, learning_curve, validation_curve, RandomizedSearchCV\n",
    "from sklearn.tree import DecisionTreeClassifier \n",
    "# from sklearn.preprocessing import PolynomialFeatures, OneHotEncoder, LabelEncoder\n",
    "# from sklearn.neural_network import MLPClassifier\n",
    "from sklearn.svm import SVC\n",
    "from sklearn.ensemble import RandomForestClassifier\n",
    "import re\n",
    "from xgboost import XGBClassifier\n",
    "from sklearn.ensemble import AdaBoostClassifier, GradientBoostingClassifier\n",
    "\n",
    "import plotly.offline as py\n",
    "py.init_notebook_mode(connected=True)\n",
    "import plotly.graph_objs as go\n",
    "import plotly.tools as tls\n",
    "from catboost import CatBoostClassifier\n",
    "\n",
    "# from scipy.sparse import csr_matrix, hstack, vstack\n",
    "%matplotlib inline"
   ]
  },
  {
   "cell_type": "code",
   "execution_count": 3,
   "metadata": {},
   "outputs": [],
   "source": [
    "RANDOM_STATE = 5\n",
    "train = pd.read_csv('train.csv', index_col='PassengerId')\n",
    "test = pd.read_csv('test.csv', index_col='PassengerId')"
   ]
  },
  {
   "cell_type": "code",
   "execution_count": 4,
   "metadata": {},
   "outputs": [],
   "source": [
    "train = pd.read_csv('train.csv', index_col='PassengerId')\n",
    "test = pd.read_csv('test.csv', index_col='PassengerId')\n",
    "y_train = train['Survived']\n",
    "X_train = train.drop(['Survived'], axis=1)\n",
    "X_test = test.copy()\n",
    "\n",
    "X_full = [X_train, X_test]\n",
    "\n",
    "def get_title(name):\n",
    "    title_search = re.search('([A-Za-z]+)\\.', name)\n",
    "    if title_search:\n",
    "        return title_search.group(1)\n",
    "    else:\n",
    "        return \"\"\n",
    "\n",
    "for df in X_full:\n",
    "    df['FamilySize'] = df['SibSp'] + df['Parch'] + 1\n",
    "\n",
    "    df['IsAlone'] = df['FamilySize'].apply(lambda x: 1 if x == 1 else 0)\n",
    "\n",
    "    df['Embarked'] = df['Embarked'].fillna('S')\n",
    "    df['Embarked'] = df['Embarked'].map({'S': 0, 'C': 1, 'Q': 2})\n",
    "\n",
    "    df['Fare'] = df['Fare'].fillna(X_train['Fare'].median())\n",
    "\n",
    "    age_mean = X_train['Age'].mean()\n",
    "    age_std = X_train['Age'].std()\n",
    "    age_null_count = df['Age'].isnull().sum()\n",
    "    age_null_random_list = np.random.randint(age_mean - age_std, age_mean + age_std, size=age_null_count)\n",
    "    df['Age'][np.isnan(df['Age'])] = age_null_random_list\n",
    "    df['Age'] = df['Age'].astype(int)\n",
    "\n",
    "    df['Sex'] = df['Sex'].map({'male': 0, 'female': 1}).astype(int)\n",
    "    \n",
    "    df['Title'] = df['Name'].apply(get_title)\n",
    "\n",
    "    df['Title'] = df['Title'].replace(['Lady', 'Countess','Capt', 'Col','Don', \n",
    "                                       'Dr', 'Major', 'Rev', 'Sir', 'Jonkheer', 'Dona'], 'Rare')\n",
    "\n",
    "    df['Title'] = df['Title'].replace('Mlle', 'Miss')\n",
    "    df['Title'] = df['Title'].replace('Ms', 'Miss')\n",
    "    df['Title'] = df['Title'].replace('Mme', 'Mrs')\n",
    "    \n",
    "    title_mapping = {\"Mr\": 1, \"Miss\": 2, \"Mrs\": 3, \"Master\": 4, \"Rare\": 5}\n",
    "    df['Title'] = df['Title'].map(title_mapping)\n",
    "    df['Title'] = df['Title'].fillna(0)\n",
    "    \n",
    "    df.loc[ df['Fare'] <= 7.91, 'Fare'] = 0\n",
    "    df.loc[(df['Fare'] > 7.91) & (df['Fare'] <= 14.454), 'Fare'] = 1\n",
    "    df.loc[(df['Fare'] > 14.454) & (df['Fare'] <= 31), 'Fare']   = 2\n",
    "    df.loc[ df['Fare'] > 31, 'Fare'] = 3\n",
    "    df['Fare'] = df['Fare'].astype(int)\n",
    "    \n",
    "    # Mapping Age\n",
    "    df.loc[ df['Age'] <= 16, 'Age'] = 0\n",
    "    df.loc[(df['Age'] > 16) & (df['Age'] <= 32), 'Age'] = 1\n",
    "    df.loc[(df['Age'] > 32) & (df['Age'] <= 48), 'Age'] = 2\n",
    "    df.loc[(df['Age'] > 48) & (df['Age'] <= 64), 'Age'] = 3\n",
    "    df.loc[ df['Age'] > 64, 'Age'] = 4\n",
    "    \n",
    "    df.drop(['Name', 'Ticket', 'Cabin', 'SibSp'], axis=1, inplace=True)"
   ]
  },
  {
   "cell_type": "code",
   "execution_count": null,
   "metadata": {},
   "outputs": [],
   "source": [
    "X, y = X_train, y_train\n",
    "X_train, X_valid, y_train, y_valid = train_test_split(X_train, y_train, test_size=0.33, random_state=RANDOM_STATE)"
   ]
  },
  {
   "cell_type": "code",
   "execution_count": null,
   "metadata": {},
   "outputs": [],
   "source": [
    "y_train.count()"
   ]
  },
  {
   "cell_type": "markdown",
   "metadata": {},
   "source": [
    "### My version "
   ]
  },
  {
   "cell_type": "code",
   "execution_count": null,
   "metadata": {},
   "outputs": [],
   "source": [
    "classifiers = {'svc': SVC(random_state=RANDOM_STATE),\n",
    "              'randomforest': RandomForestClassifier(n_estimators=500, \n",
    "                                 random_state=RANDOM_STATE, \n",
    "                                 n_jobs=-1, \n",
    "                                 max_depth=8,\n",
    "                                 min_samples_leaf=1,\n",
    "                                 max_features=7)}\n",
    "skf = StratifiedKFold(n_splits=5, shuffle=True, random_state=RANDOM_STATE)\n",
    "\n",
    "\n",
    "new_train = pd.DataFrame(data={'svc': np.zeros(X_train.shape[0], dtype=int), \n",
    "                  'randomforest': np.zeros(X_train.shape[0], dtype=int)}, \n",
    "             index=X_train.index)\n",
    "new_valid = pd.DataFrame(data={'svc': np.zeros(X_valid.shape[0]), \n",
    "                  'randomforest': np.zeros(X_valid.shape[0])}, \n",
    "             index=X_valid.index)\n",
    "# new_test = pd.DataFrame(data={'svc': np.zeros(X_test.shape[0]), \n",
    "#                   'randomforest': np.zeros(X_test.shape[0])}, \n",
    "#              index=X_test.index)\n",
    "\n",
    "for classifier in classifiers:\n",
    "    clf = classifiers[classifier]          \n",
    "    for train_idx, test_idx in skf.split(X_train, y_train):\n",
    "        X_train_split, y_train_split = X_train.iloc[train_idx], y_train.iloc[train_idx]\n",
    "        X_test_split = X_train.iloc[test_idx]\n",
    "        clf.fit(X_train_split, y_train_split)\n",
    "        new_train[classifier].iloc[test_idx] = clf.predict(X_test_split)\n",
    "    clf.fit(X_train, y_train)\n",
    "#     new_test[classifier].iloc[:] = clf.predict(X_test)\n",
    "    new_valid[classifier].iloc[:] = clf.predict(X_valid)\n",
    "                    "
   ]
  },
  {
   "cell_type": "code",
   "execution_count": null,
   "metadata": {},
   "outputs": [],
   "source": [
    "xgb = XGBClassifier()\n",
    "xgb.fit(new_train, y_train)\n",
    "y_valid_preds = xgb.predict(new_valid)\n"
   ]
  },
  {
   "cell_type": "code",
   "execution_count": null,
   "metadata": {},
   "outputs": [],
   "source": [
    "\n",
    "print('ROC AUC:', roc_auc_score(y_valid_preds, y_valid))"
   ]
  },
  {
   "cell_type": "code",
   "execution_count": null,
   "metadata": {},
   "outputs": [],
   "source": [
    "classifiers = {'svc': SVC(random_state=RANDOM_STATE),\n",
    "              'randomforest': RandomForestClassifier(n_estimators=500, \n",
    "                                 random_state=RANDOM_STATE, \n",
    "                                 n_jobs=-1, \n",
    "                                 max_depth=8,\n",
    "                                 min_samples_leaf=1,\n",
    "                                 max_features=7)}\n",
    "skf = StratifiedKFold(n_splits=5, shuffle=True, random_state=RANDOM_STATE)\n",
    "\n",
    "\n",
    "new_train = pd.DataFrame(data={'svc': np.zeros(X.shape[0], dtype=int), \n",
    "                  'randomforest': np.zeros(X.shape[0], dtype=int)}, \n",
    "             index=X.index)\n",
    "new_test = pd.DataFrame(data={'svc': np.zeros(X_test.shape[0]), \n",
    "                  'randomforest': np.zeros(X_test.shape[0])}, \n",
    "             index=X_test.index)\n",
    "\n",
    "for classifier in classifiers:\n",
    "    clf = classifiers[classifier]          \n",
    "    for train_idx, test_idx in skf.split(X, y):\n",
    "        X_train_split, y_train_split = X.iloc[train_idx], y.iloc[train_idx]\n",
    "        X_test_split = X.iloc[test_idx]\n",
    "        clf.fit(X_train_split, y_train_split)\n",
    "        new_train[classifier].iloc[test_idx] = clf.predict(X_test_split)\n",
    "    clf.fit(X, y)\n",
    "#     new_test[classifier].iloc[:] = clf.predict(X_test)\n",
    "    new_test[classifier].iloc[:] = clf.predict(X_test)\n",
    "                    "
   ]
  },
  {
   "cell_type": "code",
   "execution_count": null,
   "metadata": {},
   "outputs": [],
   "source": [
    "new_train.head()"
   ]
  },
  {
   "cell_type": "code",
   "execution_count": null,
   "metadata": {},
   "outputs": [],
   "source": [
    "xgb = XGBClassifier()\n",
    "xgb.fit(new_train, y)\n",
    "y_preds = xgb.predict(new_test)\n"
   ]
  },
  {
   "cell_type": "markdown",
   "metadata": {},
   "source": [
    "### Submussion #001"
   ]
  },
  {
   "cell_type": "code",
   "execution_count": null,
   "metadata": {},
   "outputs": [],
   "source": [
    "y_fin = pd.DataFrame(y_preds, columns=['Survived'], index=X_test.index)\n",
    "y_fin.Survived.value_counts()"
   ]
  },
  {
   "cell_type": "code",
   "execution_count": null,
   "metadata": {},
   "outputs": [],
   "source": [
    "y_fin.to_csv('submissions/ensemble_001.csv', header=True, index_label='PassengerId')"
   ]
  },
  {
   "cell_type": "markdown",
   "metadata": {},
   "source": [
    "### arthurtok's version"
   ]
  },
  {
   "cell_type": "code",
   "execution_count": 5,
   "metadata": {},
   "outputs": [],
   "source": [
    "train = pd.read_csv('train.csv')\n",
    "test = pd.read_csv('test.csv')\n",
    "y_train = train['Survived']\n",
    "X_train = train.drop(['Survived'], axis=1)\n",
    "X_test = test.copy()\n",
    "\n",
    "X_full = [X_train, X_test]\n",
    "\n",
    "def get_title(name):\n",
    "    title_search = re.search('([A-Za-z]+)\\.', name)\n",
    "    if title_search:\n",
    "        return title_search.group(1)\n",
    "    else:\n",
    "        return \"\"\n",
    "\n",
    "for df in X_full:\n",
    "    df['FamilySize'] = df['SibSp'] + df['Parch'] + 1\n",
    "\n",
    "    df['IsAlone'] = df['FamilySize'].apply(lambda x: 1 if x == 1 else 0)\n",
    "\n",
    "    df['Embarked'] = df['Embarked'].fillna('S')\n",
    "    df['Embarked'] = df['Embarked'].map({'S': 0, 'C': 1, 'Q': 2})\n",
    "\n",
    "    df['Fare'] = df['Fare'].fillna(X_train['Fare'].median())\n",
    "\n",
    "    age_mean = X_train['Age'].mean()\n",
    "    age_std = X_train['Age'].std()\n",
    "    age_null_count = df['Age'].isnull().sum()\n",
    "    age_null_random_list = np.random.randint(age_mean - age_std, age_mean + age_std, size=age_null_count)\n",
    "    df['Age'][np.isnan(df['Age'])] = age_null_random_list\n",
    "    df['Age'] = df['Age'].astype(int)\n",
    "\n",
    "    df['Sex'] = df['Sex'].map({'male': 0, 'female': 1}).astype(int)\n",
    "    \n",
    "    df['Title'] = df['Name'].apply(get_title)\n",
    "\n",
    "    df['Title'] = df['Title'].replace(['Lady', 'Countess','Capt', 'Col','Don', \n",
    "                                       'Dr', 'Major', 'Rev', 'Sir', 'Jonkheer', 'Dona'], 'Rare')\n",
    "\n",
    "    df['Title'] = df['Title'].replace('Mlle', 'Miss')\n",
    "    df['Title'] = df['Title'].replace('Ms', 'Miss')\n",
    "    df['Title'] = df['Title'].replace('Mme', 'Mrs')\n",
    "    \n",
    "    title_mapping = {\"Mr\": 1, \"Miss\": 2, \"Mrs\": 3, \"Master\": 4, \"Rare\": 5}\n",
    "    df['Title'] = df['Title'].map(title_mapping)\n",
    "    df['Title'] = df['Title'].fillna(0)\n",
    "    \n",
    "    df.loc[ df['Fare'] <= 7.91, 'Fare'] = 0\n",
    "    df.loc[(df['Fare'] > 7.91) & (df['Fare'] <= 14.454), 'Fare'] = 1\n",
    "    df.loc[(df['Fare'] > 14.454) & (df['Fare'] <= 31), 'Fare']   = 2\n",
    "    df.loc[ df['Fare'] > 31, 'Fare'] = 3\n",
    "    df['Fare'] = df['Fare'].astype(int)\n",
    "    \n",
    "    # Mapping Age\n",
    "    df.loc[ df['Age'] <= 16, 'Age'] = 0\n",
    "    df.loc[(df['Age'] > 16) & (df['Age'] <= 32), 'Age'] = 1\n",
    "    df.loc[(df['Age'] > 32) & (df['Age'] <= 48), 'Age'] = 2\n",
    "    df.loc[(df['Age'] > 48) & (df['Age'] <= 64), 'Age'] = 3\n",
    "    df.loc[ df['Age'] > 64, 'Age'] = 4\n",
    "    \n",
    "    df.drop(['Name', 'Ticket', 'Cabin', 'SibSp', 'PassengerId'], axis=1, inplace=True)"
   ]
  },
  {
   "cell_type": "code",
   "execution_count": 6,
   "metadata": {},
   "outputs": [],
   "source": [
    "X, y = X_train, y_train\n",
    "X_train, X_valid, y_train, y_valid = train_test_split(X_train, y_train, test_size=0.33, random_state=RANDOM_STATE)"
   ]
  },
  {
   "cell_type": "code",
   "execution_count": 6,
   "metadata": {},
   "outputs": [],
   "source": [
    "# Some useful parameters which will come in handy later on\n",
    "ntrain = X_train.shape[0]\n",
    "ntest = X_test.shape[0]\n",
    "NFOLDS = 5 # set folds for out-of-fold prediction\n",
    "skf = StratifiedKFold(n_splits=5, shuffle=True, random_state=RANDOM_STATE)\n",
    "# kf = KFold(n_splits=NFOLDS, random_state=RANDOM_STATE)\n",
    "\n",
    "# Class to extend the Sklearn classifier\n",
    "class SklearnHelper(object):\n",
    "    def __init__(self, clf, random_state=RANDOM_STATE, params=None):\n",
    "        if clf != KNeighborsClassifier:\n",
    "            params['random_state'] = random_state\n",
    "        self.clf = clf(**params)\n",
    "\n",
    "    def train(self, x_train, y_train):\n",
    "        self.clf.fit(x_train, y_train)\n",
    "\n",
    "    def predict(self, x):\n",
    "        return self.clf.predict(x)\n",
    "    \n",
    "    def fit(self,x,y):\n",
    "        return self.clf.fit(x,y)\n",
    "    \n",
    "    def feature_importances(self,x,y):\n",
    "        return self.clf.fit(x,y).feature_importances_"
   ]
  },
  {
   "cell_type": "code",
   "execution_count": 7,
   "metadata": {},
   "outputs": [],
   "source": [
    "\n",
    "def get_oof(clf, x_train, y_train, x_test):\n",
    "    oof_train = np.zeros((ntrain,))\n",
    "    oof_test = np.zeros((ntest,))\n",
    "    oof_test_skf = np.empty((NFOLDS, ntest))\n",
    "\n",
    "    for i, (train_index, test_index) in enumerate(skf.split(x_train, y_train)):\n",
    "        x_tr = x_train.iloc[train_index]\n",
    "        y_tr = y_train.iloc[train_index]\n",
    "        x_te = x_train.iloc[test_index]\n",
    "\n",
    "        clf.train(x_tr, y_tr)\n",
    "\n",
    "        oof_train[test_index] = clf.predict(x_te)\n",
    "        oof_test_skf[i, :] = clf.predict(x_test)\n",
    "\n",
    "    oof_test[:] = oof_test_skf.mean(axis=0)\n",
    "    return oof_train.reshape(-1, 1), oof_test.reshape(-1, 1)"
   ]
  },
  {
   "cell_type": "code",
   "execution_count": 8,
   "metadata": {},
   "outputs": [],
   "source": [
    "cat_features = []\n",
    "for i, col in enumerate(X_train.dtypes):\n",
    "    if col == object:\n",
    "        cat_features.append(i)"
   ]
  },
  {
   "cell_type": "code",
   "execution_count": 9,
   "metadata": {},
   "outputs": [],
   "source": [
    "# Put in our parameters for said classifiers\n",
    "# Random Forest parameters\n",
    "rf_params = {\n",
    "    'n_jobs': -1,\n",
    "    'n_estimators': 500,\n",
    "#      'warm_start': True, \n",
    "     #'max_features': 0.2,\n",
    "    'max_depth': 6,\n",
    "    'min_samples_leaf': 2,\n",
    "    'max_features' : 'sqrt',\n",
    "    'verbose': 0\n",
    "}\n",
    "\n",
    "# Extra Trees Parameters\n",
    "et_params = {\n",
    "    'n_jobs': -1,\n",
    "    'n_estimators':500,\n",
    "    #'max_features': 0.5,\n",
    "    'max_depth': 8,\n",
    "    'min_samples_leaf': 2,\n",
    "    'verbose': 0\n",
    "}\n",
    "\n",
    "# AdaBoost parameters\n",
    "ada_params = {\n",
    "    'algorithm': 'SAMME', \n",
    "    'learning_rate': 1.0, \n",
    "    'n_estimators': 100\n",
    "}\n",
    "# ada_params = {\n",
    "#     'n_estimators': 500,\n",
    "#     'learning_rate' : 0.75\n",
    "# }\n",
    "\n",
    "# Gradient Boosting parameters\n",
    "gb_params = {\n",
    "    'n_estimators': 500,\n",
    "     #'max_features': 0.2,\n",
    "    'max_depth': 5,\n",
    "    'min_samples_leaf': 2,\n",
    "    'verbose': 0\n",
    "}\n",
    "\n",
    "# Support Vector Classifier parameters \n",
    "svc_params = {\n",
    "    'kernel' : 'linear',\n",
    "    'C' : 0.025\n",
    "    }\n",
    "\n",
    "# KNN parameters\n",
    "knn_params = {'algorithm': 'auto',\n",
    " 'leaf_size': 25,\n",
    " 'n_neighbors': 9,\n",
    " 'p': 1,\n",
    " 'weights': 'uniform',\n",
    " 'n_jobs': -1}\n",
    "\n",
    "# Decision Tree parameters\n",
    "dt_params = {'class_weight': None,\n",
    " 'criterion': 'entropy',\n",
    " 'max_depth': 10,\n",
    " 'max_features': 4,\n",
    " 'min_samples_leaf': 9,\n",
    " 'splitter': 'best'\n",
    "         }\n",
    "\n",
    "# Logistic Regression parameters\n",
    "logit_params = {'C': 1.,\n",
    " 'class_weight': None,\n",
    " 'max_iter': 50,\n",
    " 'solver': 'liblinear',\n",
    " 'tol': 0.001\n",
    "         }\n",
    "\n",
    "# CatBoost parameters\n",
    "cat_params = {'depth': 7, \n",
    "              'iterations': 500, \n",
    "              'learning_rate': 0.01, \n",
    "              'loss_function': 'Logloss',\n",
    "              'logging_level': 'Silent',\n",
    "              'cat_features': cat_features\n",
    "             }\n"
   ]
  },
  {
   "cell_type": "code",
   "execution_count": 10,
   "metadata": {},
   "outputs": [],
   "source": [
    "# Create 5 objects that represent our 4 models\n",
    "rf = SklearnHelper(clf=RandomForestClassifier, random_state=RANDOM_STATE, params=rf_params)\n",
    "# et = SklearnHelper(clf=ExtraTreesClassifier, random_state=RANDOM_STATE, params=et_params)\n",
    "ada = SklearnHelper(clf=AdaBoostClassifier, random_state=RANDOM_STATE, params=ada_params)\n",
    "# gb = SklearnHelper(clf=GradientBoostingClassifier, random_state=RANDOM_STATE, params=gb_params)\n",
    "svc = SklearnHelper(clf=SVC, random_state=RANDOM_STATE, params=svc_params)\n",
    "knn = SklearnHelper(clf=KNeighborsClassifier, random_state=RANDOM_STATE, params=knn_params)\n",
    "dt = SklearnHelper(clf=DecisionTreeClassifier, random_state=RANDOM_STATE, params=dt_params)\n",
    "logit = SklearnHelper(clf=LogisticRegression, random_state=RANDOM_STATE, params=logit_params)\n",
    "cat = SklearnHelper(clf=CatBoostClassifier, random_state=RANDOM_STATE, params=cat_params)"
   ]
  },
  {
   "cell_type": "code",
   "execution_count": 11,
   "metadata": {},
   "outputs": [
    {
     "data": {
      "text/html": [
       "<div>\n",
       "<style scoped>\n",
       "    .dataframe tbody tr th:only-of-type {\n",
       "        vertical-align: middle;\n",
       "    }\n",
       "\n",
       "    .dataframe tbody tr th {\n",
       "        vertical-align: top;\n",
       "    }\n",
       "\n",
       "    .dataframe thead th {\n",
       "        text-align: right;\n",
       "    }\n",
       "</style>\n",
       "<table border=\"1\" class=\"dataframe\">\n",
       "  <thead>\n",
       "    <tr style=\"text-align: right;\">\n",
       "      <th></th>\n",
       "      <th>Pclass</th>\n",
       "      <th>Sex</th>\n",
       "      <th>Age</th>\n",
       "      <th>Parch</th>\n",
       "      <th>Fare</th>\n",
       "      <th>Embarked</th>\n",
       "      <th>FamilySize</th>\n",
       "      <th>IsAlone</th>\n",
       "      <th>Title</th>\n",
       "    </tr>\n",
       "  </thead>\n",
       "  <tbody>\n",
       "    <tr>\n",
       "      <th>0</th>\n",
       "      <td>3</td>\n",
       "      <td>0</td>\n",
       "      <td>1</td>\n",
       "      <td>0</td>\n",
       "      <td>0</td>\n",
       "      <td>0</td>\n",
       "      <td>2</td>\n",
       "      <td>0</td>\n",
       "      <td>1</td>\n",
       "    </tr>\n",
       "    <tr>\n",
       "      <th>1</th>\n",
       "      <td>1</td>\n",
       "      <td>1</td>\n",
       "      <td>2</td>\n",
       "      <td>0</td>\n",
       "      <td>3</td>\n",
       "      <td>1</td>\n",
       "      <td>2</td>\n",
       "      <td>0</td>\n",
       "      <td>3</td>\n",
       "    </tr>\n",
       "    <tr>\n",
       "      <th>2</th>\n",
       "      <td>3</td>\n",
       "      <td>1</td>\n",
       "      <td>1</td>\n",
       "      <td>0</td>\n",
       "      <td>1</td>\n",
       "      <td>0</td>\n",
       "      <td>1</td>\n",
       "      <td>1</td>\n",
       "      <td>2</td>\n",
       "    </tr>\n",
       "    <tr>\n",
       "      <th>3</th>\n",
       "      <td>1</td>\n",
       "      <td>1</td>\n",
       "      <td>2</td>\n",
       "      <td>0</td>\n",
       "      <td>3</td>\n",
       "      <td>0</td>\n",
       "      <td>2</td>\n",
       "      <td>0</td>\n",
       "      <td>3</td>\n",
       "    </tr>\n",
       "    <tr>\n",
       "      <th>4</th>\n",
       "      <td>3</td>\n",
       "      <td>0</td>\n",
       "      <td>2</td>\n",
       "      <td>0</td>\n",
       "      <td>1</td>\n",
       "      <td>0</td>\n",
       "      <td>1</td>\n",
       "      <td>1</td>\n",
       "      <td>1</td>\n",
       "    </tr>\n",
       "  </tbody>\n",
       "</table>\n",
       "</div>"
      ],
      "text/plain": [
       "   Pclass  Sex  Age  Parch  Fare  Embarked  FamilySize  IsAlone  Title\n",
       "0       3    0    1      0     0         0           2        0      1\n",
       "1       1    1    2      0     3         1           2        0      3\n",
       "2       3    1    1      0     1         0           1        1      2\n",
       "3       1    1    2      0     3         0           2        0      3\n",
       "4       3    0    2      0     1         0           1        1      1"
      ]
     },
     "execution_count": 11,
     "metadata": {},
     "output_type": "execute_result"
    }
   ],
   "source": [
    "X_train.head()"
   ]
  },
  {
   "cell_type": "code",
   "execution_count": 12,
   "metadata": {},
   "outputs": [],
   "source": [
    "# Create our OOF train and test predictions. These base results will be used as new features\n",
    "# et_oof_train, et_oof_test = get_oof(et, x_train, y_train, x_test) # Extra Trees\n",
    "rf_oof_train, rf_oof_test = get_oof(rf, X_train, y_train, X_test) # Random Forest\n",
    "ada_oof_train, ada_oof_test = get_oof(ada, X_train, y_train, X_test) # AdaBoost \n",
    "# gb_oof_train, gb_oof_test = get_oof(gb,x_train, y_train, x_test) # Gradient Boost\n",
    "svc_oof_train, svc_oof_test = get_oof(svc, X_train, y_train, X_test) # Support Vector Classifier\n",
    "knn_oof_train, knn_oof_test = get_oof(knn, X_train, y_train, X_test) # KNN Classifier\n",
    "dt_oof_train, dt_oof_test = get_oof(dt, X_train, y_train, X_test) # Decision Tree Classifier\n",
    "logit_oof_train, logit_oof_test = get_oof(logit, X_train, y_train, X_test) # Logistic Regression\n",
    "cat_oof_train, cat_oof_test = get_oof(cat, X_train, y_train, X_test) # CatBoost Classifier"
   ]
  },
  {
   "cell_type": "code",
   "execution_count": 14,
   "metadata": {},
   "outputs": [
    {
     "data": {
      "text/plain": [
       "array([20.28128946, 23.12158199,  5.78321541,  1.03412733,  6.94603752,\n",
       "        2.94630356, 10.58919105,  1.20458961, 28.09366407])"
      ]
     },
     "execution_count": 14,
     "metadata": {},
     "output_type": "execute_result"
    }
   ],
   "source": [
    "cat.feature_importances(X_train, y_train)"
   ]
  },
  {
   "cell_type": "code",
   "execution_count": 17,
   "metadata": {},
   "outputs": [],
   "source": [
    "rf_features = rf.feature_importances(X_train, y_train)\n",
    "# et_feature = et.feature_importances(x_train, y_train)\n",
    "ada_features = ada.feature_importances(X_train, y_train)\n",
    "# gb_feature = gb.feature_importances(x_train,y_train)\n",
    "dt_features = dt.feature_importances(X_train, y_train)\n",
    "catboost_features = cat.feature_importances(X_train, y_train)"
   ]
  },
  {
   "cell_type": "code",
   "execution_count": 18,
   "metadata": {},
   "outputs": [],
   "source": [
    "cols = X_train.columns.values\n",
    "# Create a dataframe with features\n",
    "feature_dataframe = pd.DataFrame( {'features': cols,\n",
    "     'Random Forest feature importances': rf_features,\n",
    "#      'Extra Trees  feature importances': et_features,\n",
    "      'AdaBoost feature importances': ada_features,\n",
    "#     'Gradient Boost feature importances': gb_features,\n",
    "    'Decesion Tree feature importances': dt_features,\n",
    "    'CatBoost feature importances': catboost_features,\n",
    "    })"
   ]
  },
  {
   "cell_type": "code",
   "execution_count": null,
   "metadata": {},
   "outputs": [],
   "source": [
    "trace = go.Scatter(\n",
    "    y = feature_dataframe['Random Forest feature importances'].values,\n",
    "    x = feature_dataframe['features'].values,\n",
    "    mode='markers',\n",
    "    marker=dict(\n",
    "        sizemode = 'diameter',\n",
    "        sizeref = 1,\n",
    "        size = 25,\n",
    "#       size= feature_dataframe['AdaBoost feature importances'].values,\n",
    "        #color = np.random.randn(500), #set color equal to a variable\n",
    "        color = feature_dataframe['Random Forest feature importances'].values,\n",
    "        colorscale='Portland',\n",
    "        showscale=True\n",
    "    ),\n",
    "    text = feature_dataframe['features'].values\n",
    ")\n",
    "data = [trace]\n",
    "\n",
    "layout= go.Layout(\n",
    "    autosize= True,\n",
    "    title= 'Random Forest Feature Importance',\n",
    "    hovermode= 'closest',\n",
    "#     xaxis= dict(\n",
    "#         title= 'Pop',\n",
    "#         ticklen= 5,\n",
    "#         zeroline= False,\n",
    "#         gridwidth= 2,\n",
    "#     ),\n",
    "    yaxis=dict(\n",
    "        title= 'Feature Importance',\n",
    "        ticklen= 5,\n",
    "        gridwidth= 2\n",
    "    ),\n",
    "    showlegend= False\n",
    ")\n",
    "fig = go.Figure(data=data, layout=layout)\n",
    "py.iplot(fig,filename='scatter2010')"
   ]
  },
  {
   "cell_type": "code",
   "execution_count": null,
   "metadata": {},
   "outputs": [],
   "source": [
    "py.iplot(fig)"
   ]
  },
  {
   "cell_type": "code",
   "execution_count": 19,
   "metadata": {},
   "outputs": [
    {
     "data": {
      "text/html": [
       "<div>\n",
       "<style scoped>\n",
       "    .dataframe tbody tr th:only-of-type {\n",
       "        vertical-align: middle;\n",
       "    }\n",
       "\n",
       "    .dataframe tbody tr th {\n",
       "        vertical-align: top;\n",
       "    }\n",
       "\n",
       "    .dataframe thead th {\n",
       "        text-align: right;\n",
       "    }\n",
       "</style>\n",
       "<table border=\"1\" class=\"dataframe\">\n",
       "  <thead>\n",
       "    <tr style=\"text-align: right;\">\n",
       "      <th></th>\n",
       "      <th>features</th>\n",
       "      <th>Random Forest feature importances</th>\n",
       "      <th>AdaBoost feature importances</th>\n",
       "      <th>Decesion Tree feature importances</th>\n",
       "      <th>CatBoost feature importances</th>\n",
       "      <th>mean</th>\n",
       "    </tr>\n",
       "  </thead>\n",
       "  <tbody>\n",
       "    <tr>\n",
       "      <th>8</th>\n",
       "      <td>Title</td>\n",
       "      <td>0.314034</td>\n",
       "      <td>0.379739</td>\n",
       "      <td>0.615275</td>\n",
       "      <td>28.093664</td>\n",
       "      <td>7.350678</td>\n",
       "    </tr>\n",
       "    <tr>\n",
       "      <th>1</th>\n",
       "      <td>Sex</td>\n",
       "      <td>0.257804</td>\n",
       "      <td>0.036643</td>\n",
       "      <td>0.000000</td>\n",
       "      <td>23.121582</td>\n",
       "      <td>5.854007</td>\n",
       "    </tr>\n",
       "    <tr>\n",
       "      <th>0</th>\n",
       "      <td>Pclass</td>\n",
       "      <td>0.151010</td>\n",
       "      <td>0.128125</td>\n",
       "      <td>0.208590</td>\n",
       "      <td>20.281289</td>\n",
       "      <td>5.192254</td>\n",
       "    </tr>\n",
       "    <tr>\n",
       "      <th>6</th>\n",
       "      <td>FamilySize</td>\n",
       "      <td>0.096190</td>\n",
       "      <td>0.376572</td>\n",
       "      <td>0.035218</td>\n",
       "      <td>10.589191</td>\n",
       "      <td>2.774293</td>\n",
       "    </tr>\n",
       "    <tr>\n",
       "      <th>4</th>\n",
       "      <td>Fare</td>\n",
       "      <td>0.074023</td>\n",
       "      <td>0.009394</td>\n",
       "      <td>0.063846</td>\n",
       "      <td>6.946038</td>\n",
       "      <td>1.773325</td>\n",
       "    </tr>\n",
       "    <tr>\n",
       "      <th>2</th>\n",
       "      <td>Age</td>\n",
       "      <td>0.042385</td>\n",
       "      <td>0.054149</td>\n",
       "      <td>0.024605</td>\n",
       "      <td>5.783215</td>\n",
       "      <td>1.476089</td>\n",
       "    </tr>\n",
       "    <tr>\n",
       "      <th>5</th>\n",
       "      <td>Embarked</td>\n",
       "      <td>0.027215</td>\n",
       "      <td>0.015378</td>\n",
       "      <td>0.035128</td>\n",
       "      <td>2.946304</td>\n",
       "      <td>0.756006</td>\n",
       "    </tr>\n",
       "    <tr>\n",
       "      <th>7</th>\n",
       "      <td>IsAlone</td>\n",
       "      <td>0.015367</td>\n",
       "      <td>0.000000</td>\n",
       "      <td>0.007983</td>\n",
       "      <td>1.204590</td>\n",
       "      <td>0.306985</td>\n",
       "    </tr>\n",
       "    <tr>\n",
       "      <th>3</th>\n",
       "      <td>Parch</td>\n",
       "      <td>0.021970</td>\n",
       "      <td>0.000000</td>\n",
       "      <td>0.009355</td>\n",
       "      <td>1.034127</td>\n",
       "      <td>0.266363</td>\n",
       "    </tr>\n",
       "  </tbody>\n",
       "</table>\n",
       "</div>"
      ],
      "text/plain": [
       "     features  Random Forest feature importances  \\\n",
       "8       Title                           0.314034   \n",
       "1         Sex                           0.257804   \n",
       "0      Pclass                           0.151010   \n",
       "6  FamilySize                           0.096190   \n",
       "4        Fare                           0.074023   \n",
       "2         Age                           0.042385   \n",
       "5    Embarked                           0.027215   \n",
       "7     IsAlone                           0.015367   \n",
       "3       Parch                           0.021970   \n",
       "\n",
       "   AdaBoost feature importances  Decesion Tree feature importances  \\\n",
       "8                      0.379739                           0.615275   \n",
       "1                      0.036643                           0.000000   \n",
       "0                      0.128125                           0.208590   \n",
       "6                      0.376572                           0.035218   \n",
       "4                      0.009394                           0.063846   \n",
       "2                      0.054149                           0.024605   \n",
       "5                      0.015378                           0.035128   \n",
       "7                      0.000000                           0.007983   \n",
       "3                      0.000000                           0.009355   \n",
       "\n",
       "   CatBoost feature importances      mean  \n",
       "8                     28.093664  7.350678  \n",
       "1                     23.121582  5.854007  \n",
       "0                     20.281289  5.192254  \n",
       "6                     10.589191  2.774293  \n",
       "4                      6.946038  1.773325  \n",
       "2                      5.783215  1.476089  \n",
       "5                      2.946304  0.756006  \n",
       "7                      1.204590  0.306985  \n",
       "3                      1.034127  0.266363  "
      ]
     },
     "execution_count": 19,
     "metadata": {},
     "output_type": "execute_result"
    }
   ],
   "source": [
    "feature_dataframe['mean'] = feature_dataframe.mean(axis= 1) # axis = 1 computes the mean row-wise\n",
    "feature_dataframe.sort_values('mean', ascending=False)"
   ]
  },
  {
   "cell_type": "code",
   "execution_count": 20,
   "metadata": {},
   "outputs": [
    {
     "data": {
      "application/vnd.plotly.v1+json": {
       "data": [
        {
         "marker": {
          "color": [
           5.192253708017273,
           5.854007341180593,
           1.4760887389060882,
           0.26636320299245875,
           1.7733252372894488,
           0.7560060142505038,
           2.7742928415860706,
           0.30698485403952014,
           7.35067806173804
          ],
          "colorscale": "Portland",
          "reversescale": false,
          "showscale": true
         },
         "opacity": 0.6,
         "type": "bar",
         "uid": "097bed4a-dd35-11e8-802e-3ca9f46c20d0",
         "width": 0.5,
         "x": [
          "Pclass",
          "Sex",
          "Age",
          "Parch",
          "Fare",
          "Embarked",
          "FamilySize",
          "IsAlone",
          "Title"
         ],
         "y": [
          5.192253708017273,
          5.854007341180593,
          1.4760887389060882,
          0.26636320299245875,
          1.7733252372894488,
          0.7560060142505038,
          2.7742928415860706,
          0.30698485403952014,
          7.35067806173804
         ]
        }
       ],
       "layout": {
        "autosize": true,
        "hovermode": "closest",
        "showlegend": false,
        "title": "Barplots of Mean Feature Importance",
        "yaxis": {
         "gridwidth": 2,
         "ticklen": 5,
         "title": "Feature Importance"
        }
       }
      },
      "text/html": [
       "<div id=\"faeaa085-d9f1-4060-b7ad-8348f0944bb1\" style=\"height: 525px; width: 100%;\" class=\"plotly-graph-div\"></div><script type=\"text/javascript\">require([\"plotly\"], function(Plotly) { window.PLOTLYENV=window.PLOTLYENV || {};window.PLOTLYENV.BASE_URL=\"https://plot.ly\";Plotly.newPlot(\"faeaa085-d9f1-4060-b7ad-8348f0944bb1\", [{\"marker\": {\"color\": [5.192253708017273, 5.854007341180593, 1.4760887389060882, 0.26636320299245875, 1.7733252372894488, 0.7560060142505038, 2.7742928415860706, 0.30698485403952014, 7.35067806173804], \"colorscale\": \"Portland\", \"reversescale\": false, \"showscale\": true}, \"opacity\": 0.6, \"width\": 0.5, \"x\": [\"Pclass\", \"Sex\", \"Age\", \"Parch\", \"Fare\", \"Embarked\", \"FamilySize\", \"IsAlone\", \"Title\"], \"y\": [5.192253708017273, 5.854007341180593, 1.4760887389060882, 0.26636320299245875, 1.7733252372894488, 0.7560060142505038, 2.7742928415860706, 0.30698485403952014, 7.35067806173804], \"type\": \"bar\", \"uid\": \"097bed4a-dd35-11e8-802e-3ca9f46c20d0\"}], {\"autosize\": true, \"hovermode\": \"closest\", \"showlegend\": false, \"title\": \"Barplots of Mean Feature Importance\", \"yaxis\": {\"gridwidth\": 2, \"ticklen\": 5, \"title\": \"Feature Importance\"}}, {\"showLink\": true, \"linkText\": \"Export to plot.ly\"})});</script>"
      ],
      "text/vnd.plotly.v1+html": [
       "<div id=\"faeaa085-d9f1-4060-b7ad-8348f0944bb1\" style=\"height: 525px; width: 100%;\" class=\"plotly-graph-div\"></div><script type=\"text/javascript\">require([\"plotly\"], function(Plotly) { window.PLOTLYENV=window.PLOTLYENV || {};window.PLOTLYENV.BASE_URL=\"https://plot.ly\";Plotly.newPlot(\"faeaa085-d9f1-4060-b7ad-8348f0944bb1\", [{\"marker\": {\"color\": [5.192253708017273, 5.854007341180593, 1.4760887389060882, 0.26636320299245875, 1.7733252372894488, 0.7560060142505038, 2.7742928415860706, 0.30698485403952014, 7.35067806173804], \"colorscale\": \"Portland\", \"reversescale\": false, \"showscale\": true}, \"opacity\": 0.6, \"width\": 0.5, \"x\": [\"Pclass\", \"Sex\", \"Age\", \"Parch\", \"Fare\", \"Embarked\", \"FamilySize\", \"IsAlone\", \"Title\"], \"y\": [5.192253708017273, 5.854007341180593, 1.4760887389060882, 0.26636320299245875, 1.7733252372894488, 0.7560060142505038, 2.7742928415860706, 0.30698485403952014, 7.35067806173804], \"type\": \"bar\", \"uid\": \"097bed4a-dd35-11e8-802e-3ca9f46c20d0\"}], {\"autosize\": true, \"hovermode\": \"closest\", \"showlegend\": false, \"title\": \"Barplots of Mean Feature Importance\", \"yaxis\": {\"gridwidth\": 2, \"ticklen\": 5, \"title\": \"Feature Importance\"}}, {\"showLink\": true, \"linkText\": \"Export to plot.ly\"})});</script>"
      ]
     },
     "metadata": {},
     "output_type": "display_data"
    }
   ],
   "source": [
    "y = feature_dataframe['mean'].values\n",
    "x = feature_dataframe['features'].values\n",
    "data = [go.Bar(\n",
    "            x= x,\n",
    "             y= y,\n",
    "            width = 0.5,\n",
    "            marker=dict(\n",
    "               color = feature_dataframe['mean'].values,\n",
    "            colorscale='Portland',\n",
    "            showscale=True,\n",
    "            reversescale = False\n",
    "            ),\n",
    "            opacity=0.6\n",
    "        )]\n",
    "\n",
    "layout= go.Layout(\n",
    "    autosize= True,\n",
    "    title= 'Barplots of Mean Feature Importance',\n",
    "    hovermode= 'closest',\n",
    "#     xaxis= dict(\n",
    "#         title= 'Pop',\n",
    "#         ticklen= 5,\n",
    "#         zeroline= False,\n",
    "#         gridwidth= 2,\n",
    "#     ),\n",
    "    yaxis=dict(\n",
    "        title= 'Feature Importance',\n",
    "        ticklen= 5,\n",
    "        gridwidth= 2\n",
    "    ),\n",
    "    showlegend= False\n",
    ")\n",
    "fig = go.Figure(data=data, layout=layout)\n",
    "py.iplot(fig, filename='bar-direct-labels')"
   ]
  },
  {
   "cell_type": "code",
   "execution_count": 21,
   "metadata": {},
   "outputs": [
    {
     "data": {
      "text/html": [
       "<div>\n",
       "<style scoped>\n",
       "    .dataframe tbody tr th:only-of-type {\n",
       "        vertical-align: middle;\n",
       "    }\n",
       "\n",
       "    .dataframe tbody tr th {\n",
       "        vertical-align: top;\n",
       "    }\n",
       "\n",
       "    .dataframe thead th {\n",
       "        text-align: right;\n",
       "    }\n",
       "</style>\n",
       "<table border=\"1\" class=\"dataframe\">\n",
       "  <thead>\n",
       "    <tr style=\"text-align: right;\">\n",
       "      <th></th>\n",
       "      <th>RandomForest</th>\n",
       "      <th>AdaBoost</th>\n",
       "      <th>SVC</th>\n",
       "      <th>KNN</th>\n",
       "      <th>DecisionTree</th>\n",
       "      <th>Logit</th>\n",
       "      <th>CatBoost</th>\n",
       "    </tr>\n",
       "  </thead>\n",
       "  <tbody>\n",
       "    <tr>\n",
       "      <th>0</th>\n",
       "      <td>0.0</td>\n",
       "      <td>0.0</td>\n",
       "      <td>0.0</td>\n",
       "      <td>0.0</td>\n",
       "      <td>0.0</td>\n",
       "      <td>0.0</td>\n",
       "      <td>0.0</td>\n",
       "    </tr>\n",
       "    <tr>\n",
       "      <th>1</th>\n",
       "      <td>1.0</td>\n",
       "      <td>1.0</td>\n",
       "      <td>1.0</td>\n",
       "      <td>1.0</td>\n",
       "      <td>1.0</td>\n",
       "      <td>1.0</td>\n",
       "      <td>1.0</td>\n",
       "    </tr>\n",
       "    <tr>\n",
       "      <th>2</th>\n",
       "      <td>0.0</td>\n",
       "      <td>1.0</td>\n",
       "      <td>1.0</td>\n",
       "      <td>0.0</td>\n",
       "      <td>0.0</td>\n",
       "      <td>1.0</td>\n",
       "      <td>0.0</td>\n",
       "    </tr>\n",
       "    <tr>\n",
       "      <th>3</th>\n",
       "      <td>1.0</td>\n",
       "      <td>1.0</td>\n",
       "      <td>1.0</td>\n",
       "      <td>1.0</td>\n",
       "      <td>1.0</td>\n",
       "      <td>1.0</td>\n",
       "      <td>1.0</td>\n",
       "    </tr>\n",
       "    <tr>\n",
       "      <th>4</th>\n",
       "      <td>0.0</td>\n",
       "      <td>0.0</td>\n",
       "      <td>0.0</td>\n",
       "      <td>0.0</td>\n",
       "      <td>0.0</td>\n",
       "      <td>0.0</td>\n",
       "      <td>0.0</td>\n",
       "    </tr>\n",
       "  </tbody>\n",
       "</table>\n",
       "</div>"
      ],
      "text/plain": [
       "   RandomForest  AdaBoost  SVC  KNN  DecisionTree  Logit  CatBoost\n",
       "0           0.0       0.0  0.0  0.0           0.0    0.0       0.0\n",
       "1           1.0       1.0  1.0  1.0           1.0    1.0       1.0\n",
       "2           0.0       1.0  1.0  0.0           0.0    1.0       0.0\n",
       "3           1.0       1.0  1.0  1.0           1.0    1.0       1.0\n",
       "4           0.0       0.0  0.0  0.0           0.0    0.0       0.0"
      ]
     },
     "execution_count": 21,
     "metadata": {},
     "output_type": "execute_result"
    }
   ],
   "source": [
    "base_predictions_train = pd.DataFrame( {'RandomForest': rf_oof_train.ravel(),\n",
    "#      'ExtraTrees': et_oof_train.ravel(),\n",
    "     'AdaBoost': ada_oof_train.ravel(),\n",
    "#       'GradientBoost': gb_oof_train.ravel(),\n",
    "          'SVC': svc_oof_train.ravel(),\n",
    "          'KNN': knn_oof_train.ravel(),\n",
    "          'DecisionTree': dt_oof_train.ravel(),\n",
    "          'Logit': logit_oof_train.ravel(),\n",
    "        'CatBoost': cat_oof_train.ravel()\n",
    "    })\n",
    "base_predictions_train.head()\n"
   ]
  },
  {
   "cell_type": "code",
   "execution_count": 22,
   "metadata": {},
   "outputs": [
    {
     "data": {
      "application/vnd.plotly.v1+json": {
       "data": [
        {
         "colorscale": "Viridis",
         "reversescale": true,
         "showscale": true,
         "type": "heatmap",
         "uid": "2cb3ad20-dd35-11e8-802e-3ca9f46c20d0",
         "x": [
          "RandomForest",
          "AdaBoost",
          "SVC",
          "KNN",
          "DecisionTree",
          "Logit",
          "CatBoost"
         ],
         "y": [
          "RandomForest",
          "AdaBoost",
          "SVC",
          "KNN",
          "DecisionTree",
          "Logit",
          "CatBoost"
         ],
         "z": [
          [
           1,
           0.9225359685646023,
           0.9007088853251637,
           0.8575906324147633,
           0.8403744812681688,
           0.8641049032375624,
           0.9601239002817471
          ],
          [
           0.9225359685646023,
           1,
           0.9328542941789297,
           0.8064947372682283,
           0.7741546978906679,
           0.9224436757689223,
           0.9417356439116462
          ],
          [
           0.9007088853251637,
           0.9328542941789297,
           1,
           0.8143378390091015,
           0.7761394439844069,
           0.8894791924134586,
           0.9242141612835965
          ],
          [
           0.8575906324147633,
           0.8064947372682283,
           0.8143378390091015,
           1,
           0.8572785634565537,
           0.7730909594578811,
           0.8383638491326262
          ],
          [
           0.8403744812681688,
           0.7741546978906679,
           0.7761394439844069,
           0.8572785634565537,
           1,
           0.7558889066180399,
           0.8177121159306819
          ],
          [
           0.8641049032375624,
           0.9224436757689223,
           0.8894791924134586,
           0.7730909594578811,
           0.7558889066180399,
           1,
           0.8834378713165894
          ],
          [
           0.9601239002817471,
           0.9417356439116462,
           0.9242141612835965,
           0.8383638491326262,
           0.8177121159306819,
           0.8834378713165894,
           1
          ]
         ]
        }
       ],
       "layout": {}
      },
      "text/html": [
       "<div id=\"d146eafb-1eca-4306-a554-8f9507593296\" style=\"height: 525px; width: 100%;\" class=\"plotly-graph-div\"></div><script type=\"text/javascript\">require([\"plotly\"], function(Plotly) { window.PLOTLYENV=window.PLOTLYENV || {};window.PLOTLYENV.BASE_URL=\"https://plot.ly\";Plotly.newPlot(\"d146eafb-1eca-4306-a554-8f9507593296\", [{\"colorscale\": \"Viridis\", \"reversescale\": true, \"showscale\": true, \"x\": [\"RandomForest\", \"AdaBoost\", \"SVC\", \"KNN\", \"DecisionTree\", \"Logit\", \"CatBoost\"], \"y\": [\"RandomForest\", \"AdaBoost\", \"SVC\", \"KNN\", \"DecisionTree\", \"Logit\", \"CatBoost\"], \"z\": [[1.0, 0.9225359685646023, 0.9007088853251637, 0.8575906324147633, 0.8403744812681688, 0.8641049032375624, 0.9601239002817471], [0.9225359685646023, 1.0, 0.9328542941789297, 0.8064947372682283, 0.7741546978906679, 0.9224436757689223, 0.9417356439116462], [0.9007088853251637, 0.9328542941789297, 1.0, 0.8143378390091015, 0.7761394439844069, 0.8894791924134586, 0.9242141612835965], [0.8575906324147633, 0.8064947372682283, 0.8143378390091015, 1.0, 0.8572785634565537, 0.7730909594578811, 0.8383638491326262], [0.8403744812681688, 0.7741546978906679, 0.7761394439844069, 0.8572785634565537, 1.0, 0.7558889066180399, 0.8177121159306819], [0.8641049032375624, 0.9224436757689223, 0.8894791924134586, 0.7730909594578811, 0.7558889066180399, 1.0, 0.8834378713165894], [0.9601239002817471, 0.9417356439116462, 0.9242141612835965, 0.8383638491326262, 0.8177121159306819, 0.8834378713165894, 1.0]], \"type\": \"heatmap\", \"uid\": \"2cb5e8e2-dd35-11e8-802e-3ca9f46c20d0\"}], {}, {\"showLink\": true, \"linkText\": \"Export to plot.ly\"})});</script>"
      ],
      "text/vnd.plotly.v1+html": [
       "<div id=\"d146eafb-1eca-4306-a554-8f9507593296\" style=\"height: 525px; width: 100%;\" class=\"plotly-graph-div\"></div><script type=\"text/javascript\">require([\"plotly\"], function(Plotly) { window.PLOTLYENV=window.PLOTLYENV || {};window.PLOTLYENV.BASE_URL=\"https://plot.ly\";Plotly.newPlot(\"d146eafb-1eca-4306-a554-8f9507593296\", [{\"colorscale\": \"Viridis\", \"reversescale\": true, \"showscale\": true, \"x\": [\"RandomForest\", \"AdaBoost\", \"SVC\", \"KNN\", \"DecisionTree\", \"Logit\", \"CatBoost\"], \"y\": [\"RandomForest\", \"AdaBoost\", \"SVC\", \"KNN\", \"DecisionTree\", \"Logit\", \"CatBoost\"], \"z\": [[1.0, 0.9225359685646023, 0.9007088853251637, 0.8575906324147633, 0.8403744812681688, 0.8641049032375624, 0.9601239002817471], [0.9225359685646023, 1.0, 0.9328542941789297, 0.8064947372682283, 0.7741546978906679, 0.9224436757689223, 0.9417356439116462], [0.9007088853251637, 0.9328542941789297, 1.0, 0.8143378390091015, 0.7761394439844069, 0.8894791924134586, 0.9242141612835965], [0.8575906324147633, 0.8064947372682283, 0.8143378390091015, 1.0, 0.8572785634565537, 0.7730909594578811, 0.8383638491326262], [0.8403744812681688, 0.7741546978906679, 0.7761394439844069, 0.8572785634565537, 1.0, 0.7558889066180399, 0.8177121159306819], [0.8641049032375624, 0.9224436757689223, 0.8894791924134586, 0.7730909594578811, 0.7558889066180399, 1.0, 0.8834378713165894], [0.9601239002817471, 0.9417356439116462, 0.9242141612835965, 0.8383638491326262, 0.8177121159306819, 0.8834378713165894, 1.0]], \"type\": \"heatmap\", \"uid\": \"2cb5e8e2-dd35-11e8-802e-3ca9f46c20d0\"}], {}, {\"showLink\": true, \"linkText\": \"Export to plot.ly\"})});</script>"
      ]
     },
     "metadata": {},
     "output_type": "display_data"
    }
   ],
   "source": [
    "data = [\n",
    "    go.Heatmap(\n",
    "        z= base_predictions_train.astype(float).corr().values ,\n",
    "        x=base_predictions_train.columns.values,\n",
    "        y= base_predictions_train.columns.values,\n",
    "          colorscale='Viridis',\n",
    "            showscale=True,\n",
    "            reversescale = True\n",
    "    )\n",
    "]\n",
    "py.iplot(data, filename='labelled-heatmap')"
   ]
  },
  {
   "cell_type": "code",
   "execution_count": 27,
   "metadata": {},
   "outputs": [],
   "source": [
    "x_train = np.concatenate(( \n",
    "#                             et_oof_train, \n",
    "                        rf_oof_train, \n",
    "#     ada_oof_train, gb_oof_train, \n",
    "                        svc_oof_train), axis=1)\n",
    "x_test = np.concatenate(( #et_oof_test, \n",
    "                        rf_oof_test, \n",
    "#     ada_oof_test, gb_oof_test, \n",
    "                        svc_oof_test), axis=1)"
   ]
  },
  {
   "cell_type": "code",
   "execution_count": null,
   "metadata": {
    "scrolled": true
   },
   "outputs": [],
   "source": [
    "gbm = XGBClassifier(n_jobs=-1).fit(X_train, y_train)\n",
    "predictions = gbm.predict(X_test)"
   ]
  },
  {
   "cell_type": "markdown",
   "metadata": {},
   "source": [
    "### submission #002"
   ]
  },
  {
   "cell_type": "code",
   "execution_count": null,
   "metadata": {},
   "outputs": [],
   "source": [
    "# Generate Submission File \n",
    "StackingSubmission = pd.DataFrame({ 'PassengerId': test.PassengerId,\n",
    "                            'Survived': predictions })\n",
    "StackingSubmission.to_csv(\"submissions/ensemble_002.csv\", index=False)"
   ]
  },
  {
   "cell_type": "code",
   "execution_count": null,
   "metadata": {},
   "outputs": [],
   "source": [
    "test.shape[0], len(predictions)"
   ]
  },
  {
   "cell_type": "code",
   "execution_count": null,
   "metadata": {
    "scrolled": false
   },
   "outputs": [],
   "source": [
    "gbm = XGBClassifier(n_jobs=-1).fit(X_train, y_train)\n",
    "predictions = gbm.predict(X_test)"
   ]
  },
  {
   "cell_type": "markdown",
   "metadata": {},
   "source": [
    "### submission #002"
   ]
  },
  {
   "cell_type": "code",
   "execution_count": null,
   "metadata": {},
   "outputs": [],
   "source": [
    "# Generate Submission File \n",
    "StackingSubmission = pd.DataFrame({ 'PassengerId': test.PassengerId,\n",
    "                            'Survived': predictions })\n",
    "StackingSubmission.to_csv(\"submissions/ensemble_002.csv\", index=False)"
   ]
  },
  {
   "cell_type": "code",
   "execution_count": null,
   "metadata": {},
   "outputs": [],
   "source": [
    "#Tuning\n",
    "gbm = XGBClassifier(n_jobs=-1)\n",
    "gs = GridSearchCV(estimator=gbm, param_grid={#'n_estimators': np.linspace(100, 2000, 20, dtype=int),\n",
    "                                            'max_depth': [4, 5, 6, 7, 8, 9, 10], \n",
    "                                              'min_child_weight': [2, 3, 4],\n",
    "                                            'gamma': np.linspace(0, 1., 11),\n",
    "                                            'subsample': np.linspace(0.5, 1., 6),\n",
    "                                            'colsample_bytree': np.linspace(0.5, 1., 6),\n",
    "                                            'scale_pos_weight': np.linspace(0.6, 1., 5)},\n",
    "                  scoring='accuracy', cv=skf)\n",
    "gs.fit(X_train, y_train);\n",
    "gs.best_params_"
   ]
  },
  {
   "cell_type": "code",
   "execution_count": null,
   "metadata": {},
   "outputs": [],
   "source": [
    "train.shape, X_train.shape"
   ]
  },
  {
   "cell_type": "code",
   "execution_count": null,
   "metadata": {},
   "outputs": [],
   "source": [
    "#Tuning\n",
    "gbm = XGBClassifier(n_jobs=-1)\n",
    "n_iter_search = 100\n",
    "rs = RandomizedSearchCV(estimator=gbm, param_distributions={'max_depth': [4, 5, 6, 7, 8, 9, 10], \n",
    "                                              'min_child_weight': [2, 3, 4],\n",
    "                                            'gamma': np.linspace(0, 1., 11),\n",
    "                                            'subsample': np.linspace(0.5, 1., 6),\n",
    "                                            'colsample_bytree': np.linspace(0.5, 1., 6),\n",
    "                                            'scale_pos_weight': np.linspace(0.6, 1., 5)},\n",
    "                  scoring='accuracy', n_iter=n_iter_search, cv=skf)\n",
    "rs.fit(X_train, y_train);\n",
    "rs.best_params_"
   ]
  },
  {
   "cell_type": "code",
   "execution_count": null,
   "metadata": {},
   "outputs": [],
   "source": [
    "#Tuning\n",
    "gbm = XGBClassifier(n_jobs=-1)\n",
    "n_iter_search = 500\n",
    "rs = RandomizedSearchCV(estimator=gbm, param_distributions={'max_depth': [4, 5, 6, 7, 8, 9, 10], \n",
    "                                              'min_child_weight': [2, 3, 4],\n",
    "                                            'gamma': np.linspace(0, 1., 11),\n",
    "                                            'subsample': np.linspace(0.5, 1., 6),\n",
    "                                            'colsample_bytree': np.linspace(0.5, 1., 6),\n",
    "                                            'scale_pos_weight': np.linspace(0.6, 1., 5)},\n",
    "                  scoring='accuracy', n_iter=n_iter_search, cv=skf)\n",
    "rs.fit(X_train, y_train);\n",
    "rs.best_params_"
   ]
  },
  {
   "cell_type": "markdown",
   "metadata": {},
   "source": [
    "### submission #003"
   ]
  },
  {
   "cell_type": "code",
   "execution_count": null,
   "metadata": {},
   "outputs": [],
   "source": [
    "params =  {'n_estimators': 2000,\n",
    "           'subsample': 1.0,\n",
    "            'scale_pos_weight': 0.8,\n",
    "            'min_child_weight': 3,\n",
    "            'max_depth': 5,\n",
    "            'gamma': 0.9,\n",
    "            'colsample_bytree': 0.5,\n",
    "            'n_jobs': -1\n",
    "          }\n",
    "gbm = XGBClassifier(**params).fit(X_train, y_train)\n",
    "predictions = gbm.predict(X_test)"
   ]
  },
  {
   "cell_type": "code",
   "execution_count": null,
   "metadata": {},
   "outputs": [],
   "source": [
    "StackingSubmission = pd.DataFrame({ 'PassengerId': test.PassengerId,\n",
    "                            'Survived': predictions })\n",
    "StackingSubmission.to_csv(\"submissions/ensemble_003.csv\", index=False)"
   ]
  },
  {
   "cell_type": "markdown",
   "metadata": {},
   "source": [
    "### submission #004"
   ]
  },
  {
   "cell_type": "code",
   "execution_count": null,
   "metadata": {},
   "outputs": [],
   "source": [
    "x_train = np.concatenate(( \n",
    "#                             et_oof_train, \n",
    "                        rf_oof_train, \n",
    "#     ada_oof_train, gb_oof_train, \n",
    "                        svc_oof_train,\n",
    "                        knn_oof_train), axis=1)\n",
    "x_test = np.concatenate(( #et_oof_test, \n",
    "                        rf_oof_test, \n",
    "#     ada_oof_test, gb_oof_test, \n",
    "                        svc_oof_test,\n",
    "                        knn_oof_test), axis=1)"
   ]
  },
  {
   "cell_type": "code",
   "execution_count": null,
   "metadata": {
    "scrolled": true
   },
   "outputs": [],
   "source": [
    "gbm = XGBClassifier(n_jobs=-1).fit(X_train, y_train)\n",
    "predictions = gbm.predict(X_test)"
   ]
  },
  {
   "cell_type": "code",
   "execution_count": null,
   "metadata": {},
   "outputs": [],
   "source": [
    "# Generate Submission File \n",
    "StackingSubmission = pd.DataFrame({ 'PassengerId': test.PassengerId,\n",
    "                            'Survived': predictions })\n",
    "StackingSubmission.to_csv(\"submissions/ensemble_004.csv\", index=False)"
   ]
  },
  {
   "cell_type": "markdown",
   "metadata": {},
   "source": [
    "### Submission #005"
   ]
  },
  {
   "cell_type": "code",
   "execution_count": 28,
   "metadata": {},
   "outputs": [],
   "source": [
    "x_train = np.concatenate(( \n",
    "#                             et_oof_train, \n",
    "                        rf_oof_train, \n",
    "#     ada_oof_train, gb_oof_train, \n",
    "                        svc_oof_train,\n",
    "                        knn_oof_train,\n",
    "                        dt_oof_train), axis=1)\n",
    "x_test = np.concatenate(( #et_oof_test, \n",
    "                        rf_oof_test, \n",
    "#     ada_oof_test, gb_oof_test, \n",
    "                        svc_oof_test,\n",
    "                        knn_oof_test,\n",
    "                        dt_oof_test), axis=1)"
   ]
  },
  {
   "cell_type": "code",
   "execution_count": 29,
   "metadata": {
    "scrolled": true
   },
   "outputs": [],
   "source": [
    "gbm = XGBClassifier(n_jobs=-1).fit(X_train, y_train)\n",
    "predictions = gbm.predict(X_test)"
   ]
  },
  {
   "cell_type": "code",
   "execution_count": 30,
   "metadata": {},
   "outputs": [],
   "source": [
    "# Generate Submission File \n",
    "StackingSubmission = pd.DataFrame({ 'PassengerId': test.PassengerId,\n",
    "                            'Survived': predictions })\n",
    "StackingSubmission.to_csv(\"submissions/ensemble_005.csv\", index=False) #0.79425"
   ]
  },
  {
   "cell_type": "markdown",
   "metadata": {},
   "source": [
    "### Submission #006"
   ]
  },
  {
   "cell_type": "code",
   "execution_count": 15,
   "metadata": {},
   "outputs": [],
   "source": [
    "x_train = np.concatenate(( \n",
    "#                             et_oof_train, \n",
    "                        rf_oof_train, \n",
    "#     ada_oof_train, gb_oof_train, \n",
    "                        svc_oof_train,\n",
    "                        knn_oof_train,\n",
    "                        dt_oof_train,\n",
    "                        logit_oof_train), axis=1)\n",
    "x_test = np.concatenate(( #et_oof_test, \n",
    "                        rf_oof_test, \n",
    "#     ada_oof_test, gb_oof_test, \n",
    "                        svc_oof_test,\n",
    "                        knn_oof_test,\n",
    "                        dt_oof_test,\n",
    "                        logit_oof_test), axis=1)"
   ]
  },
  {
   "cell_type": "code",
   "execution_count": 16,
   "metadata": {
    "scrolled": true
   },
   "outputs": [
    {
     "name": "stderr",
     "output_type": "stream",
     "text": [
      "/home/yulits/anaconda3/lib/python3.6/site-packages/sklearn/preprocessing/label.py:151: DeprecationWarning:\n",
      "\n",
      "The truth value of an empty array is ambiguous. Returning False, but in future this will result in an error. Use `array.size > 0` to check that an array is not empty.\n",
      "\n"
     ]
    }
   ],
   "source": [
    "gbm = XGBClassifier(n_jobs=-1).fit(X_train, y_train)\n",
    "predictions = gbm.predict(X_test)"
   ]
  },
  {
   "cell_type": "code",
   "execution_count": 17,
   "metadata": {},
   "outputs": [],
   "source": [
    "# Generate Submission File \n",
    "StackingSubmission = pd.DataFrame({ 'PassengerId': test.PassengerId,\n",
    "                            'Survived': predictions })\n",
    "StackingSubmission.to_csv(\"submissions/ensemble_006.csv\", index=False) # 0.76076"
   ]
  },
  {
   "cell_type": "markdown",
   "metadata": {},
   "source": [
    "### Submission #007"
   ]
  },
  {
   "cell_type": "code",
   "execution_count": 24,
   "metadata": {},
   "outputs": [],
   "source": [
    "x_train = np.concatenate(( \n",
    "#                             et_oof_train, \n",
    "                        rf_oof_train, \n",
    "#     ada_oof_train, gb_oof_train, \n",
    "                        svc_oof_train,\n",
    "                        knn_oof_train,\n",
    "                        dt_oof_train,\n",
    "                        logit_oof_train), axis=1)\n",
    "x_test = np.concatenate(( #et_oof_test, \n",
    "                        rf_oof_test, \n",
    "#     ada_oof_test, gb_oof_test, \n",
    "                        svc_oof_test,\n",
    "                        knn_oof_test,\n",
    "                        dt_oof_test,\n",
    "                        logit_oof_test), axis=1)"
   ]
  },
  {
   "cell_type": "code",
   "execution_count": 25,
   "metadata": {
    "scrolled": true
   },
   "outputs": [
    {
     "name": "stderr",
     "output_type": "stream",
     "text": [
      "/home/yulits/anaconda3/lib/python3.6/site-packages/sklearn/preprocessing/label.py:151: DeprecationWarning:\n",
      "\n",
      "The truth value of an empty array is ambiguous. Returning False, but in future this will result in an error. Use `array.size > 0` to check that an array is not empty.\n",
      "\n"
     ]
    }
   ],
   "source": [
    "gbm = XGBClassifier(n_jobs=-1).fit(X_train, y_train)\n",
    "predictions = gbm.predict(X_test)"
   ]
  },
  {
   "cell_type": "code",
   "execution_count": 26,
   "metadata": {},
   "outputs": [],
   "source": [
    "# Generate Submission File \n",
    "StackingSubmission = pd.DataFrame({ 'PassengerId': test.PassengerId,\n",
    "                            'Survived': predictions })\n",
    "StackingSubmission.to_csv(\"submissions/ensemble_007.csv\", index=False) # 0.78468"
   ]
  },
  {
   "cell_type": "code",
   "execution_count": null,
   "metadata": {},
   "outputs": [],
   "source": []
  },
  {
   "cell_type": "markdown",
   "metadata": {},
   "source": [
    "### Submission #008"
   ]
  },
  {
   "cell_type": "code",
   "execution_count": 51,
   "metadata": {},
   "outputs": [],
   "source": [
    "x_train = np.concatenate(( \n",
    "#                             et_oof_train, \n",
    "                        rf_oof_train, \n",
    "                        ada_oof_train, \n",
    "#     gb_oof_train, \n",
    "                        svc_oof_train,\n",
    "                        knn_oof_train,\n",
    "                        dt_oof_train,\n",
    "                        logit_oof_train), axis=1)\n",
    "x_test = np.concatenate(( #et_oof_test, \n",
    "                        rf_oof_test, \n",
    "                        ada_oof_test, \n",
    "#     gb_oof_test, \n",
    "                        svc_oof_test,\n",
    "                        knn_oof_test,\n",
    "                        dt_oof_test,\n",
    "                        logit_oof_test), axis=1)"
   ]
  },
  {
   "cell_type": "code",
   "execution_count": 52,
   "metadata": {
    "scrolled": true
   },
   "outputs": [
    {
     "name": "stderr",
     "output_type": "stream",
     "text": [
      "/home/yulits/anaconda3/lib/python3.6/site-packages/sklearn/preprocessing/label.py:151: DeprecationWarning:\n",
      "\n",
      "The truth value of an empty array is ambiguous. Returning False, but in future this will result in an error. Use `array.size > 0` to check that an array is not empty.\n",
      "\n"
     ]
    }
   ],
   "source": [
    "gbm = XGBClassifier(n_jobs=-1).fit(X_train, y_train)\n",
    "predictions = gbm.predict(X_test)"
   ]
  },
  {
   "cell_type": "code",
   "execution_count": 53,
   "metadata": {},
   "outputs": [],
   "source": [
    "# Generate Submission File \n",
    "StackingSubmission = pd.DataFrame({ 'PassengerId': test.PassengerId,\n",
    "                            'Survived': predictions })\n",
    "StackingSubmission.to_csv(\"submissions/ensemble_008.csv\", index=False) # 0.78947"
   ]
  },
  {
   "cell_type": "code",
   "execution_count": null,
   "metadata": {},
   "outputs": [],
   "source": []
  },
  {
   "cell_type": "markdown",
   "metadata": {},
   "source": [
    "### Submission #009"
   ]
  },
  {
   "cell_type": "code",
   "execution_count": 23,
   "metadata": {},
   "outputs": [],
   "source": [
    "x_train = np.concatenate(( \n",
    "#                             et_oof_train, \n",
    "                        rf_oof_train, \n",
    "                        ada_oof_train, \n",
    "#     gb_oof_train, \n",
    "                        svc_oof_train,\n",
    "                        knn_oof_train,\n",
    "                        dt_oof_train,\n",
    "                        cat_oof_train), axis=1)\n",
    "x_test = np.concatenate(( #et_oof_test, \n",
    "                        rf_oof_test, \n",
    "                        ada_oof_test, \n",
    "#     gb_oof_test, \n",
    "                        svc_oof_test,\n",
    "                        knn_oof_test,\n",
    "                        dt_oof_test,\n",
    "                        cat_oof_test), axis=1)"
   ]
  },
  {
   "cell_type": "code",
   "execution_count": 24,
   "metadata": {
    "scrolled": true
   },
   "outputs": [
    {
     "name": "stderr",
     "output_type": "stream",
     "text": [
      "/home/yulits/anaconda3/lib/python3.6/site-packages/sklearn/preprocessing/label.py:151: DeprecationWarning:\n",
      "\n",
      "The truth value of an empty array is ambiguous. Returning False, but in future this will result in an error. Use `array.size > 0` to check that an array is not empty.\n",
      "\n"
     ]
    }
   ],
   "source": [
    "gbm = XGBClassifier(n_jobs=-1).fit(X_train, y_train)\n",
    "predictions = gbm.predict(X_test)"
   ]
  },
  {
   "cell_type": "code",
   "execution_count": 26,
   "metadata": {},
   "outputs": [],
   "source": [
    "# Generate Submission File \n",
    "StackingSubmission = pd.DataFrame({ 'PassengerId': test.PassengerId,\n",
    "                            'Survived': predictions })\n",
    "StackingSubmission.to_csv(\"submissions/ensemble_009.csv\", index=False) # 0.78947"
   ]
  },
  {
   "cell_type": "code",
   "execution_count": null,
   "metadata": {},
   "outputs": [],
   "source": []
  },
  {
   "cell_type": "markdown",
   "metadata": {},
   "source": [
    "<b>Lets try Catboost as level 2 model</b>"
   ]
  },
  {
   "cell_type": "code",
   "execution_count": null,
   "metadata": {},
   "outputs": [],
   "source": [
    "X_train_concat_feat = X_train.copy()\n",
    "cols = X_train.columns\n",
    "for i in range(len(cols)):\n",
    "    for j in range(i+1, len(cols)):\n",
    "        feature = '%s_%s' % (cols[i], cols[j])\n",
    "        X_train_concat_feat[feature] = X_train[cols[i]].map(str) + '_' + X_train[cols[j]].map(str)"
   ]
  },
  {
   "cell_type": "code",
   "execution_count": null,
   "metadata": {},
   "outputs": [],
   "source": []
  },
  {
   "cell_type": "code",
   "execution_count": null,
   "metadata": {},
   "outputs": [],
   "source": []
  },
  {
   "cell_type": "code",
   "execution_count": null,
   "metadata": {},
   "outputs": [],
   "source": []
  },
  {
   "cell_type": "code",
   "execution_count": null,
   "metadata": {},
   "outputs": [],
   "source": []
  }
 ],
 "metadata": {
  "kernelspec": {
   "display_name": "Python 3",
   "language": "python",
   "name": "python3"
  },
  "language_info": {
   "codemirror_mode": {
    "name": "ipython",
    "version": 3
   },
   "file_extension": ".py",
   "mimetype": "text/x-python",
   "name": "python",
   "nbconvert_exporter": "python",
   "pygments_lexer": "ipython3",
   "version": "3.6.5"
  }
 },
 "nbformat": 4,
 "nbformat_minor": 2
}
