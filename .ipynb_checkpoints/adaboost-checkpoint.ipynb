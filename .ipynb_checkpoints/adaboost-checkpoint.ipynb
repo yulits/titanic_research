{
 "cells": [
  {
   "cell_type": "code",
   "execution_count": 3,
   "metadata": {},
   "outputs": [],
   "source": [
    "import warnings\n",
    "warnings.filterwarnings('ignore')"
   ]
  },
  {
   "cell_type": "code",
   "execution_count": 5,
   "metadata": {},
   "outputs": [],
   "source": [
    "import pandas as pd\n",
    "import matplotlib.pyplot as plt \n",
    "import numpy as np\n",
    "import seaborn as sns\n",
    "from sklearn.model_selection import train_test_split, cross_val_score, StratifiedKFold, KFold\n",
    "from sklearn.neighbors import KNeighborsClassifier, RadiusNeighborsClassifier\n",
    "# from sklearn.linear_model import LogisticRegression, LogisticRegressionCV, LinearRegression, SGDClassifier\n",
    "from sklearn.metrics import accuracy_score, roc_auc_score\n",
    "from sklearn.model_selection import GridSearchCV, learning_curve, validation_curve\n",
    "# from sklearn.tree import DecisionTreeClassifier \n",
    "# from sklearn.preprocessing import PolynomialFeatures, OneHotEncoder, LabelEncoder\n",
    "# from sklearn.neural_network import MLPClassifier\n",
    "# from sklearn.svm import SVC\n",
    "# from sklearn.ensemble import RandomForestClassifier\n",
    "import re\n",
    "# from scipy.sparse import csr_matrix, hstack, vstack\n",
    "%matplotlib inline"
   ]
  },
  {
   "cell_type": "code",
   "execution_count": 6,
   "metadata": {},
   "outputs": [],
   "source": [
    "RANDOM_STATE = 5\n",
    "train = pd.read_csv('train.csv', index_col='PassengerId')\n",
    "test = pd.read_csv('test.csv', index_col='PassengerId')"
   ]
  },
  {
   "cell_type": "code",
   "execution_count": 4,
   "metadata": {},
   "outputs": [
    {
     "data": {
      "text/plain": [
       "Survived    891\n",
       "Pclass      891\n",
       "Name        891\n",
       "Sex         891\n",
       "Age         714\n",
       "SibSp       891\n",
       "Parch       891\n",
       "Ticket      891\n",
       "Fare        891\n",
       "Cabin       204\n",
       "Embarked    889\n",
       "dtype: int64"
      ]
     },
     "execution_count": 4,
     "metadata": {},
     "output_type": "execute_result"
    }
   ],
   "source": [
    "train.count()"
   ]
  },
  {
   "cell_type": "code",
   "execution_count": 7,
   "metadata": {},
   "outputs": [],
   "source": [
    "train = pd.read_csv('train.csv', index_col='PassengerId')\n",
    "test = pd.read_csv('test.csv', index_col='PassengerId')\n",
    "y_train = train['Survived']\n",
    "X_train = train.drop(['Survived'], axis=1)\n",
    "X_test = test.copy()\n",
    "\n",
    "X_full = [X_train, X_test]\n",
    "\n",
    "def get_title(name):\n",
    "    title_search = re.search('([A-Za-z]+)\\.', name)\n",
    "    if title_search:\n",
    "        return title_search.group(1)\n",
    "    else:\n",
    "        return \"\"\n",
    "\n",
    "for df in X_full:\n",
    "    df['FamilySize'] = df['SibSp'] + df['Parch'] + 1\n",
    "\n",
    "    df['IsAlone'] = df['FamilySize'].apply(lambda x: 1 if x == 1 else 0)\n",
    "\n",
    "    df['Embarked'] = df['Embarked'].fillna('S')\n",
    "    df['Embarked'] = df['Embarked'].map({'S': 0, 'C': 1, 'Q': 2})\n",
    "\n",
    "    df['Fare'] = df['Fare'].fillna(X_train['Fare'].median())\n",
    "\n",
    "    age_mean = X_train['Age'].mean()\n",
    "    age_std = X_train['Age'].std()\n",
    "    age_null_count = df['Age'].isnull().sum()\n",
    "    age_null_random_list = np.random.randint(age_mean - age_std, age_mean + age_std, size=age_null_count)\n",
    "    df['Age'][np.isnan(df['Age'])] = age_null_random_list\n",
    "    df['Age'] = df['Age'].astype(int)\n",
    "\n",
    "    df['Sex'] = df['Sex'].map({'male': 0, 'female': 1}).astype(int)\n",
    "    \n",
    "    df['Title'] = df['Name'].apply(get_title)\n",
    "\n",
    "    df['Title'] = df['Title'].replace(['Lady', 'Countess','Capt', 'Col','Don', \n",
    "                                       'Dr', 'Major', 'Rev', 'Sir', 'Jonkheer', 'Dona'], 'Rare')\n",
    "\n",
    "    df['Title'] = df['Title'].replace('Mlle', 'Miss')\n",
    "    df['Title'] = df['Title'].replace('Ms', 'Miss')\n",
    "    df['Title'] = df['Title'].replace('Mme', 'Mrs')\n",
    "    \n",
    "    title_mapping = {\"Mr\": 1, \"Miss\": 2, \"Mrs\": 3, \"Master\": 4, \"Rare\": 5}\n",
    "    df['Title'] = df['Title'].map(title_mapping)\n",
    "    df['Title'] = df['Title'].fillna(0)\n",
    "    \n",
    "    df.loc[ df['Fare'] <= 7.91, 'Fare'] = 0\n",
    "    df.loc[(df['Fare'] > 7.91) & (df['Fare'] <= 14.454), 'Fare'] = 1\n",
    "    df.loc[(df['Fare'] > 14.454) & (df['Fare'] <= 31), 'Fare']   = 2\n",
    "    df.loc[ df['Fare'] > 31, 'Fare'] = 3\n",
    "    df['Fare'] = df['Fare'].astype(int)\n",
    "    \n",
    "    # Mapping Age\n",
    "    df.loc[ df['Age'] <= 16, 'Age'] = 0\n",
    "    df.loc[(df['Age'] > 16) & (df['Age'] <= 32), 'Age'] = 1\n",
    "    df.loc[(df['Age'] > 32) & (df['Age'] <= 48), 'Age'] = 2\n",
    "    df.loc[(df['Age'] > 48) & (df['Age'] <= 64), 'Age'] = 3\n",
    "    df.loc[ df['Age'] > 64, 'Age'] = 4\n",
    "    \n",
    "    df.drop(['Name', 'Ticket', 'Cabin', 'SibSp'], axis=1, inplace=True)"
   ]
  },
  {
   "cell_type": "code",
   "execution_count": 8,
   "metadata": {},
   "outputs": [],
   "source": [
    "X, y = X_train, y_train\n",
    "X_train, X_valid, y_train, y_valid = train_test_split(X_train, y_train, test_size=0.33, random_state=RANDOM_STATE)"
   ]
  },
  {
   "cell_type": "code",
   "execution_count": 9,
   "metadata": {},
   "outputs": [
    {
     "name": "stdout",
     "output_type": "stream",
     "text": [
      "<class 'pandas.core.frame.DataFrame'>\n",
      "Int64Index: 596 entries, 241 to 868\n",
      "Data columns (total 9 columns):\n",
      "Pclass        596 non-null int64\n",
      "Sex           596 non-null int64\n",
      "Age           596 non-null int64\n",
      "Parch         596 non-null int64\n",
      "Fare          596 non-null int64\n",
      "Embarked      596 non-null int64\n",
      "FamilySize    596 non-null int64\n",
      "IsAlone       596 non-null int64\n",
      "Title         596 non-null int64\n",
      "dtypes: int64(9)\n",
      "memory usage: 46.6 KB\n"
     ]
    }
   ],
   "source": [
    "X_train.info()"
   ]
  },
  {
   "cell_type": "code",
   "execution_count": 17,
   "metadata": {},
   "outputs": [],
   "source": [
    "KNeighborsClassifier?"
   ]
  },
  {
   "cell_type": "code",
   "execution_count": 14,
   "metadata": {},
   "outputs": [
    {
     "name": "stdout",
     "output_type": "stream",
     "text": [
      "ROC AUC: 0.8191036693191865\n"
     ]
    }
   ],
   "source": [
    "knn = KNeighborsClassifier()\n",
    "knn.fit(X_train, y_train)\n",
    "y_preds = knn.predict(X_valid)\n",
    "print('ROC AUC:', roc_auc_score(y_preds, y_valid))"
   ]
  },
  {
   "cell_type": "code",
   "execution_count": 12,
   "metadata": {},
   "outputs": [],
   "source": [
    "skf = StratifiedKFold(n_splits=5, shuffle=True, random_state=RANDOM_STATE)"
   ]
  },
  {
   "cell_type": "code",
   "execution_count": 15,
   "metadata": {},
   "outputs": [
    {
     "data": {
      "text/plain": [
       "0.8147293749492427"
      ]
     },
     "execution_count": 15,
     "metadata": {},
     "output_type": "execute_result"
    }
   ],
   "source": [
    "knn = KNeighborsClassifier()\n",
    "cross_val_score(knn, X, y, cv=skf).mean()"
   ]
  },
  {
   "cell_type": "code",
   "execution_count": 18,
   "metadata": {},
   "outputs": [
    {
     "data": {
      "text/plain": [
       "array([ 5,  6,  7,  8,  9, 10])"
      ]
     },
     "execution_count": 18,
     "metadata": {},
     "output_type": "execute_result"
    }
   ],
   "source": [
    "np.linspace(5, 10, 6, dtype=int)"
   ]
  },
  {
   "cell_type": "code",
   "execution_count": 19,
   "metadata": {},
   "outputs": [
    {
     "data": {
      "text/plain": [
       "{'algorithm': 'brute',\n",
       " 'leaf_size': 25,\n",
       " 'n_neighbors': 8,\n",
       " 'p': 2,\n",
       " 'weights': 'uniform'}"
      ]
     },
     "execution_count": 19,
     "metadata": {},
     "output_type": "execute_result"
    }
   ],
   "source": [
    "gs = GridSearchCV(estimator=knn, param_grid={'n_neighbors': np.linspace(5, 10, 6, dtype=int),\n",
    "                                            'weights': ['uniform', 'distance'], \n",
    "                                              'algorithm': ['auto', 'ball_tree', 'kd_tree', 'brute'],\n",
    "                                             'leaf_size': [25, 30, 35],\n",
    "                                             'p': [1, 2]\n",
    "                                            },\n",
    "                  scoring='accuracy', cv=skf)\n",
    "gs.fit(X_train, y_train);\n",
    "gs.best_params_"
   ]
  },
  {
   "cell_type": "code",
   "execution_count": 21,
   "metadata": {},
   "outputs": [
    {
     "data": {
      "text/plain": [
       "((891, 11), (596, 9))"
      ]
     },
     "execution_count": 21,
     "metadata": {},
     "output_type": "execute_result"
    }
   ],
   "source": [
    "train.shape, X_train.shape"
   ]
  },
  {
   "cell_type": "code",
   "execution_count": 22,
   "metadata": {},
   "outputs": [
    {
     "name": "stdout",
     "output_type": "stream",
     "text": [
      "ROC AUC: 0.8262951424945194\n"
     ]
    }
   ],
   "source": [
    "params = {'algorithm': 'brute',\n",
    " 'leaf_size': 25,\n",
    " 'n_neighbors': 8,\n",
    " 'p': 2,\n",
    " 'weights': 'uniform',\n",
    " 'n_jobs': -1}\n",
    "knn = KNeighborsClassifier(**params)\n",
    "knn.fit(X_train, y_train)\n",
    "y_preds = knn.predict(X_valid)\n",
    "print('ROC AUC:', roc_auc_score(y_preds, y_valid))"
   ]
  },
  {
   "cell_type": "code",
   "execution_count": 23,
   "metadata": {},
   "outputs": [
    {
     "data": {
      "text/plain": [
       "{'algorithm': 'auto',\n",
       " 'leaf_size': 25,\n",
       " 'n_neighbors': 9,\n",
       " 'p': 1,\n",
       " 'weights': 'uniform'}"
      ]
     },
     "execution_count": 23,
     "metadata": {},
     "output_type": "execute_result"
    }
   ],
   "source": [
    "gs = GridSearchCV(estimator=knn, param_grid={'n_neighbors': np.linspace(5, 10, 6, dtype=int),\n",
    "                                            'weights': ['uniform', 'distance'], \n",
    "                                              'algorithm': ['auto', 'ball_tree', 'kd_tree', 'brute'],\n",
    "                                             'leaf_size': [25, 30, 35],\n",
    "                                             'p': [1, 2]\n",
    "                                            },\n",
    "                  scoring='accuracy', cv=skf)\n",
    "gs.fit(X, y)\n",
    "gs.best_params_"
   ]
  },
  {
   "cell_type": "markdown",
   "metadata": {},
   "source": [
    "### submission #001"
   ]
  },
  {
   "cell_type": "code",
   "execution_count": 25,
   "metadata": {},
   "outputs": [],
   "source": [
    "params = {'algorithm': 'auto',\n",
    " 'leaf_size': 25,\n",
    " 'n_neighbors': 9,\n",
    " 'p': 1,\n",
    " 'weights': 'uniform',\n",
    " 'n_jobs': -1}\n",
    "knn = KNeighborsClassifier(**params)\n",
    "knn.fit(X, y)\n",
    "y_preds = knn.predict(X_test)"
   ]
  },
  {
   "cell_type": "code",
   "execution_count": 26,
   "metadata": {},
   "outputs": [
    {
     "data": {
      "text/plain": [
       "0    253\n",
       "1    165\n",
       "Name: Survived, dtype: int64"
      ]
     },
     "execution_count": 26,
     "metadata": {},
     "output_type": "execute_result"
    }
   ],
   "source": [
    "y_fin = pd.DataFrame(y_preds, columns=['Survived'], index=X_test.index)\n",
    "y_fin.Survived.value_counts()"
   ]
  },
  {
   "cell_type": "code",
   "execution_count": 27,
   "metadata": {},
   "outputs": [],
   "source": [
    "y_fin.to_csv('submissions/knn_001.csv', header=True, index_label='PassengerId') #0.78468"
   ]
  },
  {
   "cell_type": "code",
   "execution_count": 28,
   "metadata": {
    "scrolled": true
   },
   "outputs": [
    {
     "data": {
      "text/plain": [
       "Index(['Pclass', 'Sex', 'Age', 'Parch', 'Fare', 'Embarked', 'FamilySize',\n",
       "       'IsAlone', 'Title'],\n",
       "      dtype='object')"
      ]
     },
     "execution_count": 28,
     "metadata": {},
     "output_type": "execute_result"
    }
   ],
   "source": [
    "X.columns"
   ]
  },
  {
   "cell_type": "markdown",
   "metadata": {},
   "source": [
    "### submission #002"
   ]
  },
  {
   "cell_type": "code",
   "execution_count": 29,
   "metadata": {},
   "outputs": [],
   "source": [
    "params = {'algorithm': 'brute',\n",
    " 'leaf_size': 25,\n",
    " 'n_neighbors': 8,\n",
    " 'p': 2,\n",
    " 'weights': 'uniform',\n",
    " 'n_jobs': -1}\n",
    "knn = KNeighborsClassifier(**params)\n",
    "knn.fit(X, y)\n",
    "y_preds = knn.predict(X_test)"
   ]
  },
  {
   "cell_type": "code",
   "execution_count": 30,
   "metadata": {},
   "outputs": [
    {
     "data": {
      "text/plain": [
       "0    276\n",
       "1    142\n",
       "Name: Survived, dtype: int64"
      ]
     },
     "execution_count": 30,
     "metadata": {},
     "output_type": "execute_result"
    }
   ],
   "source": [
    "y_fin = pd.DataFrame(y_preds, columns=['Survived'], index=X_test.index)\n",
    "y_fin.Survived.value_counts()"
   ]
  },
  {
   "cell_type": "code",
   "execution_count": 31,
   "metadata": {},
   "outputs": [],
   "source": [
    "y_fin.to_csv('submissions/knn_002.csv', header=True, index_label='PassengerId') #0.74641"
   ]
  },
  {
   "cell_type": "code",
   "execution_count": 32,
   "metadata": {},
   "outputs": [],
   "source": [
    "RadiusNeighborsClassifier?"
   ]
  },
  {
   "cell_type": "code",
   "execution_count": 42,
   "metadata": {},
   "outputs": [
    {
     "data": {
      "text/plain": [
       "{'algorithm': 'auto',\n",
       " 'leaf_size': 25,\n",
       " 'p': 1,\n",
       " 'radius': 4.0,\n",
       " 'weights': 'distance'}"
      ]
     },
     "execution_count": 42,
     "metadata": {},
     "output_type": "execute_result"
    }
   ],
   "source": [
    "rn = RadiusNeighborsClassifier()\n",
    "gs = GridSearchCV(estimator=rn, param_grid={'radius': np.linspace(4., 5., 5),\n",
    "                                            'weights': ['uniform', 'distance'], \n",
    "                                              'algorithm': ['auto', 'ball_tree', 'kd_tree', 'brute'],\n",
    "                                             'leaf_size': [25, 30, 35],\n",
    "                                             'p': [1, 2]\n",
    "                                            },\n",
    "                  scoring='accuracy', cv=skf)\n",
    "gs.fit(X_train, y_train)\n",
    "gs.best_params_"
   ]
  },
  {
   "cell_type": "code",
   "execution_count": 43,
   "metadata": {},
   "outputs": [
    {
     "name": "stdout",
     "output_type": "stream",
     "text": [
      "ROC AUC: 0.8271106370009143\n"
     ]
    }
   ],
   "source": [
    "params = {'algorithm': 'auto',\n",
    " 'leaf_size': 25,\n",
    " 'p': 1,\n",
    " 'radius': 4.0,\n",
    " 'weights': 'distance',\n",
    " 'n_jobs': -1}\n",
    "knn = RadiusNeighborsClassifier(**params)\n",
    "knn.fit(X_train, y_train)\n",
    "y_preds = knn.predict(X_valid)\n",
    "print('ROC AUC:', roc_auc_score(y_preds, y_valid))"
   ]
  },
  {
   "cell_type": "code",
   "execution_count": 44,
   "metadata": {},
   "outputs": [
    {
     "data": {
      "text/plain": [
       "{'algorithm': 'auto',\n",
       " 'leaf_size': 25,\n",
       " 'p': 1,\n",
       " 'radius': 4.0,\n",
       " 'weights': 'distance'}"
      ]
     },
     "execution_count": 44,
     "metadata": {},
     "output_type": "execute_result"
    }
   ],
   "source": [
    "rn = RadiusNeighborsClassifier()\n",
    "gs = GridSearchCV(estimator=rn, param_grid={'radius': np.linspace(4., 5., 5),\n",
    "                                            'weights': ['uniform', 'distance'], \n",
    "                                              'algorithm': ['auto', 'ball_tree', 'kd_tree', 'brute'],\n",
    "                                             'leaf_size': [25, 30, 35],\n",
    "                                             'p': [1, 2]\n",
    "                                            },\n",
    "                  scoring='accuracy', cv=skf)\n",
    "gs.fit(X, y)\n",
    "gs.best_params_"
   ]
  },
  {
   "cell_type": "markdown",
   "metadata": {},
   "source": [
    "### submission #003"
   ]
  },
  {
   "cell_type": "code",
   "execution_count": 49,
   "metadata": {},
   "outputs": [],
   "source": [
    "params = {'algorithm': 'auto',\n",
    " 'leaf_size': 25,\n",
    " 'p': 1,\n",
    " 'radius': 8.0,\n",
    " 'weights': 'distance',\n",
    " 'n_jobs': -1}\n",
    "knn = RadiusNeighborsClassifier(**params)\n",
    "knn.fit(X, y)\n",
    "y_preds = knn.predict(X_test)"
   ]
  },
  {
   "cell_type": "code",
   "execution_count": 50,
   "metadata": {},
   "outputs": [
    {
     "data": {
      "text/plain": [
       "0    277\n",
       "1    141\n",
       "Name: Survived, dtype: int64"
      ]
     },
     "execution_count": 50,
     "metadata": {},
     "output_type": "execute_result"
    }
   ],
   "source": [
    "y_fin = pd.DataFrame(y_preds, columns=['Survived'], index=X_test.index)\n",
    "y_fin.Survived.value_counts()"
   ]
  },
  {
   "cell_type": "code",
   "execution_count": 51,
   "metadata": {},
   "outputs": [],
   "source": [
    "y_fin.to_csv('submissions/knn_003.csv', header=True, index_label='PassengerId') #0.74162"
   ]
  },
  {
   "cell_type": "code",
   "execution_count": null,
   "metadata": {},
   "outputs": [],
   "source": []
  }
 ],
 "metadata": {
  "kernelspec": {
   "display_name": "Python 3",
   "language": "python",
   "name": "python3"
  },
  "language_info": {
   "codemirror_mode": {
    "name": "ipython",
    "version": 3
   },
   "file_extension": ".py",
   "mimetype": "text/x-python",
   "name": "python",
   "nbconvert_exporter": "python",
   "pygments_lexer": "ipython3",
   "version": "3.6.5"
  }
 },
 "nbformat": 4,
 "nbformat_minor": 2
}
