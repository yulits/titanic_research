{
 "cells": [
  {
   "cell_type": "code",
   "execution_count": 1,
   "metadata": {},
   "outputs": [],
   "source": [
    "import warnings\n",
    "warnings.filterwarnings('ignore')"
   ]
  },
  {
   "cell_type": "code",
   "execution_count": 67,
   "metadata": {},
   "outputs": [],
   "source": [
    "import pandas as pd\n",
    "import matplotlib.pyplot as plt \n",
    "import numpy as np\n",
    "import seaborn as sns\n",
    "from sklearn.model_selection import train_test_split, cross_val_score, StratifiedKFold, KFold\n",
    "# from sklearn.neighbors import KNeighborsClassifier, RadiusNeighborsClassifier\n",
    "from sklearn.linear_model import LogisticRegression, LogisticRegressionCV, SGDClassifier\n",
    "from sklearn.metrics import accuracy_score, roc_auc_score\n",
    "from sklearn.model_selection import GridSearchCV, learning_curve, validation_curve\n",
    "# from sklearn.tree import DecisionTreeClassifier \n",
    "from sklearn.preprocessing import PolynomialFeatures, OneHotEncoder, LabelEncoder\n",
    "# from sklearn.neural_network import MLPClassifier\n",
    "# from sklearn.svm import SVC\n",
    "# from sklearn.ensemble import RandomForestClassifier\n",
    "import re\n",
    "# from scipy.sparse import csr_matrix, hstack, vstack\n",
    "%matplotlib inline"
   ]
  },
  {
   "cell_type": "code",
   "execution_count": 3,
   "metadata": {},
   "outputs": [],
   "source": [
    "RANDOM_STATE = 5\n",
    "train = pd.read_csv('train.csv', index_col='PassengerId')\n",
    "test = pd.read_csv('test.csv', index_col='PassengerId')"
   ]
  },
  {
   "cell_type": "code",
   "execution_count": 4,
   "metadata": {},
   "outputs": [
    {
     "data": {
      "text/plain": [
       "Survived    891\n",
       "Pclass      891\n",
       "Name        891\n",
       "Sex         891\n",
       "Age         714\n",
       "SibSp       891\n",
       "Parch       891\n",
       "Ticket      891\n",
       "Fare        891\n",
       "Cabin       204\n",
       "Embarked    889\n",
       "dtype: int64"
      ]
     },
     "execution_count": 4,
     "metadata": {},
     "output_type": "execute_result"
    }
   ],
   "source": [
    "train.count()"
   ]
  },
  {
   "cell_type": "code",
   "execution_count": 5,
   "metadata": {},
   "outputs": [],
   "source": [
    "train = pd.read_csv('train.csv', index_col='PassengerId')\n",
    "test = pd.read_csv('test.csv', index_col='PassengerId')\n",
    "y_train = train['Survived']\n",
    "X_train = train.drop(['Survived'], axis=1)\n",
    "X_test = test.copy()\n",
    "\n",
    "X_full = [X_train, X_test]\n",
    "\n",
    "def get_title(name):\n",
    "    title_search = re.search('([A-Za-z]+)\\.', name)\n",
    "    if title_search:\n",
    "        return title_search.group(1)\n",
    "    else:\n",
    "        return \"\"\n",
    "\n",
    "for df in X_full:\n",
    "    df['FamilySize'] = df['SibSp'] + df['Parch'] + 1\n",
    "\n",
    "    df['IsAlone'] = df['FamilySize'].apply(lambda x: 1 if x == 1 else 0)\n",
    "\n",
    "    df['Embarked'] = df['Embarked'].fillna('S')\n",
    "    df['Embarked'] = df['Embarked'].map({'S': 0, 'C': 1, 'Q': 2})\n",
    "\n",
    "    df['Fare'] = df['Fare'].fillna(X_train['Fare'].median())\n",
    "\n",
    "    age_mean = X_train['Age'].mean()\n",
    "    age_std = X_train['Age'].std()\n",
    "    age_null_count = df['Age'].isnull().sum()\n",
    "    age_null_random_list = np.random.randint(age_mean - age_std, age_mean + age_std, size=age_null_count)\n",
    "    df['Age'][np.isnan(df['Age'])] = age_null_random_list\n",
    "    df['Age'] = df['Age'].astype(int)\n",
    "\n",
    "    df['Sex'] = df['Sex'].map({'male': 0, 'female': 1}).astype(int)\n",
    "    \n",
    "    df['Title'] = df['Name'].apply(get_title)\n",
    "\n",
    "    df['Title'] = df['Title'].replace(['Lady', 'Countess','Capt', 'Col','Don', \n",
    "                                       'Dr', 'Major', 'Rev', 'Sir', 'Jonkheer', 'Dona'], 'Rare')\n",
    "\n",
    "    df['Title'] = df['Title'].replace('Mlle', 'Miss')\n",
    "    df['Title'] = df['Title'].replace('Ms', 'Miss')\n",
    "    df['Title'] = df['Title'].replace('Mme', 'Mrs')\n",
    "    \n",
    "    title_mapping = {\"Mr\": 1, \"Miss\": 2, \"Mrs\": 3, \"Master\": 4, \"Rare\": 5}\n",
    "    df['Title'] = df['Title'].map(title_mapping)\n",
    "    df['Title'] = df['Title'].fillna(0)\n",
    "    \n",
    "    df.loc[ df['Fare'] <= 7.91, 'Fare'] = 0\n",
    "    df.loc[(df['Fare'] > 7.91) & (df['Fare'] <= 14.454), 'Fare'] = 1\n",
    "    df.loc[(df['Fare'] > 14.454) & (df['Fare'] <= 31), 'Fare']   = 2\n",
    "    df.loc[ df['Fare'] > 31, 'Fare'] = 3\n",
    "    df['Fare'] = df['Fare'].astype(int)\n",
    "    \n",
    "    # Mapping Age\n",
    "    df.loc[ df['Age'] <= 16, 'Age'] = 0\n",
    "    df.loc[(df['Age'] > 16) & (df['Age'] <= 32), 'Age'] = 1\n",
    "    df.loc[(df['Age'] > 32) & (df['Age'] <= 48), 'Age'] = 2\n",
    "    df.loc[(df['Age'] > 48) & (df['Age'] <= 64), 'Age'] = 3\n",
    "    df.loc[ df['Age'] > 64, 'Age'] = 4\n",
    "    \n",
    "    df.drop(['Name', 'Ticket', 'Cabin', 'SibSp'], axis=1, inplace=True)"
   ]
  },
  {
   "cell_type": "code",
   "execution_count": 6,
   "metadata": {},
   "outputs": [],
   "source": [
    "X, y = X_train, y_train\n",
    "X_train, X_valid, y_train, y_valid = train_test_split(X_train, y_train, test_size=0.33, random_state=RANDOM_STATE)"
   ]
  },
  {
   "cell_type": "code",
   "execution_count": 7,
   "metadata": {},
   "outputs": [
    {
     "name": "stdout",
     "output_type": "stream",
     "text": [
      "<class 'pandas.core.frame.DataFrame'>\n",
      "Int64Index: 596 entries, 241 to 868\n",
      "Data columns (total 9 columns):\n",
      "Pclass        596 non-null int64\n",
      "Sex           596 non-null int64\n",
      "Age           596 non-null int64\n",
      "Parch         596 non-null int64\n",
      "Fare          596 non-null int64\n",
      "Embarked      596 non-null int64\n",
      "FamilySize    596 non-null int64\n",
      "IsAlone       596 non-null int64\n",
      "Title         596 non-null int64\n",
      "dtypes: int64(9)\n",
      "memory usage: 46.6 KB\n"
     ]
    }
   ],
   "source": [
    "X_train.info()"
   ]
  },
  {
   "cell_type": "code",
   "execution_count": 7,
   "metadata": {},
   "outputs": [
    {
     "name": "stdout",
     "output_type": "stream",
     "text": [
      "ROC AUC: 0.8200000000000001\n"
     ]
    }
   ],
   "source": [
    "logit = LogisticRegression(random_state=RANDOM_STATE)\n",
    "logit.fit(X_train, y_train)\n",
    "y_preds = logit.predict(X_valid)\n",
    "print('ROC AUC:', roc_auc_score(y_preds, y_valid))"
   ]
  },
  {
   "cell_type": "code",
   "execution_count": 42,
   "metadata": {},
   "outputs": [],
   "source": [
    "skf = StratifiedKFold(n_splits=5, shuffle=True, random_state=RANDOM_STATE)"
   ]
  },
  {
   "cell_type": "code",
   "execution_count": 9,
   "metadata": {},
   "outputs": [
    {
     "data": {
      "text/plain": [
       "0.8080949376672777"
      ]
     },
     "execution_count": 9,
     "metadata": {},
     "output_type": "execute_result"
    }
   ],
   "source": [
    "cross_val_score(logit, X, y, cv=skf).mean()"
   ]
  },
  {
   "cell_type": "code",
   "execution_count": 10,
   "metadata": {},
   "outputs": [],
   "source": []
  },
  {
   "cell_type": "code",
   "execution_count": 19,
   "metadata": {},
   "outputs": [
    {
     "data": {
      "text/plain": [
       "{'C': 1.1119999999999999,\n",
       " 'class_weight': None,\n",
       " 'max_iter': 50,\n",
       " 'solver': 'liblinear',\n",
       " 'tol': 0.001}"
      ]
     },
     "execution_count": 19,
     "metadata": {},
     "output_type": "execute_result"
    }
   ],
   "source": [
    "logit = LogisticRegression(penalty='l2', random_state=RANDOM_STATE, n_jobs=-1)\n",
    "gs = GridSearchCV(estimator=logit, param_grid={'tol': [1e-3, 1e-4, 1e-5], \n",
    "                                              'C': np.linspace(1e-3, 10, 10),\n",
    "                                            'solver': ['newton-cg', 'lbfgs', 'liblinear', 'sag', 'saga'],\n",
    "                                            'max_iter': [50, 100, 200, 300, 400, 500],\n",
    "                                            'class_weight': [None, 'balanced']},\n",
    "                  scoring='accuracy', cv=skf)\n",
    "gs.fit(X_train, y_train);\n",
    "gs.best_params_"
   ]
  },
  {
   "cell_type": "code",
   "execution_count": 37,
   "metadata": {},
   "outputs": [
    {
     "name": "stdout",
     "output_type": "stream",
     "text": [
      "ROC AUC: 0.8200000000000001\n"
     ]
    }
   ],
   "source": [
    "params = {'C': 1.,\n",
    " 'class_weight': None,\n",
    " 'max_iter': 50,\n",
    " 'penalty': 'l2',\n",
    " 'solver': 'liblinear',\n",
    " 'tol': 0.001\n",
    "         }         \n",
    "logit = LogisticRegression(**params, random_state=RANDOM_STATE)\n",
    "logit.fit(X_train, y_train)\n",
    "y_preds = logit.predict(X_valid)\n",
    "print('ROC AUC:', roc_auc_score(y_preds, y_valid))"
   ]
  },
  {
   "cell_type": "code",
   "execution_count": 16,
   "metadata": {},
   "outputs": [
    {
     "name": "stdout",
     "output_type": "stream",
     "text": [
      "ROC AUC: 0.81684661797396\n"
     ]
    }
   ],
   "source": [
    "params = {'C': 1.1119999999999999,\n",
    " 'class_weight': None,\n",
    " 'max_iter': 50,\n",
    " 'penalty': 'l1',\n",
    " 'solver': 'saga',\n",
    " 'tol': 0.001\n",
    "         }         \n",
    "logit = LogisticRegression(**params, random_state=RANDOM_STATE, n_jobs=-1)\n",
    "logit.fit(X_train, y_train)\n",
    "y_preds = logit.predict(X_valid)\n",
    "print('ROC AUC:', roc_auc_score(y_preds, y_valid))"
   ]
  },
  {
   "cell_type": "code",
   "execution_count": 40,
   "metadata": {},
   "outputs": [
    {
     "name": "stdout",
     "output_type": "stream",
     "text": [
      "ROC AUC: 0.81684661797396\n"
     ]
    }
   ],
   "source": [
    "logitCV = LogisticRegressionCV(solver='liblinear', max_iter=50, penalty='l2', tol=0.001,\n",
    "                               random_state=RANDOM_STATE, n_jobs=-1)\n",
    "logitCV.fit(X_train, y_train);\n",
    "y_preds = logitCV.predict(X_valid)\n",
    "print('ROC AUC:', roc_auc_score(y_preds, y_valid))"
   ]
  },
  {
   "cell_type": "markdown",
   "metadata": {},
   "source": [
    "### Submission #001"
   ]
  },
  {
   "cell_type": "code",
   "execution_count": null,
   "metadata": {},
   "outputs": [],
   "source": [
    "logit = LogisticRegression(penalty='l2', random_state=RANDOM_STATE)\n",
    "gs = GridSearchCV(estimator=logit, param_grid={'tol': [1e-2, 1e-3, 1e-4], \n",
    "                                              'C': [0.7, 0.8, 0.9, 1., 1.1, 1.2, 1.3],\n",
    "                                            'solver': ['newton-cg', 'lbfgs', 'liblinear', 'sag', 'saga'],\n",
    "                                            'max_iter': [200, 300, 400, 500],\n",
    "                                            'class_weight': [None, 'balanced']},\n",
    "                  scoring='accuracy', cv=skf)\n",
    "gs.fit(X, y);\n",
    "gs.best_params_"
   ]
  },
  {
   "cell_type": "code",
   "execution_count": 64,
   "metadata": {},
   "outputs": [],
   "source": [
    "params = {'C': 0.7,\n",
    " 'class_weight': None,\n",
    " 'max_iter': 200,\n",
    " 'solver': 'sag',\n",
    " 'tol': 0.001\n",
    "         }\n",
    "logit = LogisticRegression(**params, random_state=RANDOM_STATE, n_jobs=-1)\n",
    "logit.fit(X, y)\n",
    "y_preds = logit.predict(X_test)"
   ]
  },
  {
   "cell_type": "code",
   "execution_count": 65,
   "metadata": {
    "scrolled": true
   },
   "outputs": [
    {
     "data": {
      "text/plain": [
       "0    247\n",
       "1    171\n",
       "Name: Survived, dtype: int64"
      ]
     },
     "execution_count": 65,
     "metadata": {},
     "output_type": "execute_result"
    }
   ],
   "source": [
    "y_fin = pd.DataFrame(y_preds, columns=['Survived'], index=X_test.index)\n",
    "y_fin.Survived.value_counts()"
   ]
  },
  {
   "cell_type": "code",
   "execution_count": 66,
   "metadata": {},
   "outputs": [],
   "source": [
    "y_fin.to_csv('submissions/logit_001.csv', header=True, index_label='PassengerId') #0.79425"
   ]
  },
  {
   "cell_type": "code",
   "execution_count": null,
   "metadata": {},
   "outputs": [],
   "source": [
    "logit = LogisticRegression(penalty='l2', random_state=RANDOM_STATE)\n",
    "gs = GridSearchCV(estimator=logit, param_grid={'tol': [1e-2, 1e-3, 1e-4], \n",
    "                                              'C': [0.2, 0.3, 0.4, 0.5, 0.6, 0.7, 0.8, 0.9, 1.],\n",
    "                                            'solver': ['newton-cg', 'lbfgs', 'liblinear', 'sag', 'saga'],\n",
    "                                            'max_iter': [200, 300, 400, 500],\n",
    "                                            'class_weight': [None, 'balanced']},\n",
    "                  scoring='accuracy', cv=skf)\n",
    "gs.fit(X, y);\n",
    "gs.best_params_"
   ]
  },
  {
   "cell_type": "markdown",
   "metadata": {},
   "source": [
    "### Submission #002"
   ]
  },
  {
   "cell_type": "code",
   "execution_count": 78,
   "metadata": {},
   "outputs": [],
   "source": [
    "params = {'C': 0.2,\n",
    " 'class_weight': None,\n",
    " 'max_iter': 200,\n",
    " 'solver': 'liblinear',\n",
    " 'tol': 0.01}\n",
    "logit = LogisticRegression(**params, random_state=RANDOM_STATE)\n",
    "logit.fit(X, y)\n",
    "y_preds = logit.predict(X_test)"
   ]
  },
  {
   "cell_type": "code",
   "execution_count": 79,
   "metadata": {
    "scrolled": true
   },
   "outputs": [
    {
     "data": {
      "text/plain": [
       "0    251\n",
       "1    167\n",
       "Name: Survived, dtype: int64"
      ]
     },
     "execution_count": 79,
     "metadata": {},
     "output_type": "execute_result"
    }
   ],
   "source": [
    "y_fin = pd.DataFrame(y_preds, columns=['Survived'], index=X_test.index)\n",
    "y_fin.Survived.value_counts()"
   ]
  },
  {
   "cell_type": "code",
   "execution_count": 80,
   "metadata": {},
   "outputs": [],
   "source": [
    "y_fin.to_csv('submissions/logit_002.csv', header=True, index_label='PassengerId') #0.78..."
   ]
  },
  {
   "cell_type": "code",
   "execution_count": 81,
   "metadata": {},
   "outputs": [
    {
     "data": {
      "text/plain": [
       "{'C': 0.4,\n",
       " 'class_weight': None,\n",
       " 'max_iter': 200,\n",
       " 'solver': 'saga',\n",
       " 'tol': 0.01}"
      ]
     },
     "execution_count": 81,
     "metadata": {},
     "output_type": "execute_result"
    }
   ],
   "source": [
    "logit = LogisticRegression(penalty='l2', random_state=RANDOM_STATE)\n",
    "gs = GridSearchCV(estimator=logit, param_grid={'tol': [1e-2, 1e-3, 1e-4], \n",
    "                                              'C': [0.4, 0.5, 0.6, 0.7, 0.8, 0.9, 1.],\n",
    "                                            'solver': ['newton-cg', 'lbfgs', 'liblinear', 'sag', 'saga'],\n",
    "                                            'max_iter': [200, 300, 400, 500],\n",
    "                                            'class_weight': [None, 'balanced']},\n",
    "                  scoring='accuracy', cv=skf)\n",
    "gs.fit(X, y);\n",
    "gs.best_params_"
   ]
  },
  {
   "cell_type": "markdown",
   "metadata": {},
   "source": [
    "### Submission #003"
   ]
  },
  {
   "cell_type": "code",
   "execution_count": 82,
   "metadata": {},
   "outputs": [],
   "source": [
    "params = {'C': 0.4,\n",
    " 'class_weight': None,\n",
    " 'max_iter': 200,\n",
    " 'solver': 'saga',\n",
    " 'tol': 0.01}\n",
    "logit = LogisticRegression(**params, random_state=RANDOM_STATE)\n",
    "logit.fit(X, y)\n",
    "y_preds = logit.predict(X_test)"
   ]
  },
  {
   "cell_type": "code",
   "execution_count": 83,
   "metadata": {
    "scrolled": true
   },
   "outputs": [
    {
     "data": {
      "text/plain": [
       "0    253\n",
       "1    165\n",
       "Name: Survived, dtype: int64"
      ]
     },
     "execution_count": 83,
     "metadata": {},
     "output_type": "execute_result"
    }
   ],
   "source": [
    "y_fin = pd.DataFrame(y_preds, columns=['Survived'], index=X_test.index)\n",
    "y_fin.Survived.value_counts()"
   ]
  },
  {
   "cell_type": "code",
   "execution_count": 84,
   "metadata": {},
   "outputs": [],
   "source": [
    "y_fin.to_csv('submissions/logit_003.csv', header=True, index_label='PassengerId') #0.77033"
   ]
  },
  {
   "cell_type": "code",
   "execution_count": null,
   "metadata": {},
   "outputs": [],
   "source": []
  },
  {
   "cell_type": "code",
   "execution_count": 69,
   "metadata": {},
   "outputs": [],
   "source": [
    "poly = PolynomialFeatures(2)\n",
    "X_train_poly = poly.fit_transform(X_train)\n",
    "X_valid_poly = poly.transform(X_valid)"
   ]
  },
  {
   "cell_type": "code",
   "execution_count": 120,
   "metadata": {},
   "outputs": [
    {
     "data": {
      "text/plain": [
       "((596, 9), (596, 55))"
      ]
     },
     "execution_count": 120,
     "metadata": {},
     "output_type": "execute_result"
    }
   ],
   "source": [
    "X_train.shape, X_train_poly.shape"
   ]
  },
  {
   "cell_type": "code",
   "execution_count": 109,
   "metadata": {},
   "outputs": [
    {
     "data": {
      "text/plain": [
       "{'C': 0.2, 'max_iter': 50, 'solver': 'liblinear', 'tol': 0.001}"
      ]
     },
     "execution_count": 109,
     "metadata": {},
     "output_type": "execute_result"
    }
   ],
   "source": [
    "logit = LogisticRegression(penalty='l2', random_state=RANDOM_STATE)\n",
    "gs = GridSearchCV(estimator=logit, param_grid={'tol': [1e-3, 1e-4], \n",
    "                                              'C': [0.2, 0.3, 0.4, 0.5, 0.7, 0.9, 1.1, 1., 1.3],\n",
    "                                            'solver': ['liblinear'],\n",
    "                                            'max_iter': [50, 200, 700],\n",
    "                                              },\n",
    "\n",
    "                  scoring='accuracy', cv=skf)\n",
    "gs.fit(X_train_poly, y_train);\n",
    "gs.best_params_"
   ]
  },
  {
   "cell_type": "code",
   "execution_count": 114,
   "metadata": {},
   "outputs": [
    {
     "name": "stdout",
     "output_type": "stream",
     "text": [
      "ROC AUC: 0.8406865472348949\n"
     ]
    }
   ],
   "source": [
    "# params = {'C': 1.,\n",
    "#  'class_weight': None,\n",
    "#  'max_iter': 50,\n",
    "#  'penalty': 'l2',\n",
    "#  'solver': 'liblinear',\n",
    "#  'tol': 0.001\n",
    "#          } \n",
    "params = {'C': 0.7,\n",
    " 'class_weight': None,\n",
    " 'max_iter': 1000,\n",
    " 'solver': 'sag',\n",
    " 'tol': 0.001\n",
    "         }\n",
    "logit = LogisticRegression(**params, random_state=RANDOM_STATE)\n",
    "logit.fit(X_train_poly, y_train)\n",
    "y_preds = logit.predict(X_valid_poly)\n",
    "print('ROC AUC:', roc_auc_score(y_preds, y_valid))"
   ]
  },
  {
   "cell_type": "code",
   "execution_count": null,
   "metadata": {},
   "outputs": [],
   "source": []
  },
  {
   "cell_type": "markdown",
   "metadata": {},
   "source": [
    "### Submission #004"
   ]
  },
  {
   "cell_type": "code",
   "execution_count": 115,
   "metadata": {},
   "outputs": [],
   "source": [
    "poly = PolynomialFeatures(2)\n",
    "X_poly = poly.fit_transform(X)\n",
    "X_test_poly = poly.transform(X_test)"
   ]
  },
  {
   "cell_type": "code",
   "execution_count": 117,
   "metadata": {},
   "outputs": [],
   "source": [
    "params = {'C': 0.7,\n",
    " 'class_weight': None,\n",
    " 'max_iter': 1000,\n",
    " 'solver': 'sag',\n",
    " 'tol': 0.001\n",
    "         }\n",
    "logit = LogisticRegression(**params, random_state=RANDOM_STATE)\n",
    "logit.fit(X_poly, y)\n",
    "y_preds = logit.predict(X_test_poly)\n"
   ]
  },
  {
   "cell_type": "code",
   "execution_count": 118,
   "metadata": {
    "scrolled": true
   },
   "outputs": [
    {
     "data": {
      "text/plain": [
       "0    263\n",
       "1    155\n",
       "Name: Survived, dtype: int64"
      ]
     },
     "execution_count": 118,
     "metadata": {},
     "output_type": "execute_result"
    }
   ],
   "source": [
    "y_fin = pd.DataFrame(y_preds, columns=['Survived'], index=X_test.index)\n",
    "y_fin.Survived.value_counts()"
   ]
  },
  {
   "cell_type": "code",
   "execution_count": 119,
   "metadata": {},
   "outputs": [],
   "source": [
    "y_fin.to_csv('submissions/logit_poly_001.csv', header=True, index_label='PassengerId') #"
   ]
  },
  {
   "cell_type": "code",
   "execution_count": null,
   "metadata": {},
   "outputs": [],
   "source": []
  },
  {
   "cell_type": "code",
   "execution_count": null,
   "metadata": {},
   "outputs": [],
   "source": []
  },
  {
   "cell_type": "code",
   "execution_count": 121,
   "metadata": {},
   "outputs": [],
   "source": [
    "poly = PolynomialFeatures(2)\n",
    "X_train_poly = poly.fit_transform(X_train)\n",
    "X_valid_poly = poly.fit_transform(X_valid)"
   ]
  },
  {
   "cell_type": "code",
   "execution_count": 109,
   "metadata": {},
   "outputs": [
    {
     "data": {
      "text/plain": [
       "{'C': 0.2, 'max_iter': 50, 'solver': 'liblinear', 'tol': 0.001}"
      ]
     },
     "execution_count": 109,
     "metadata": {},
     "output_type": "execute_result"
    }
   ],
   "source": [
    "logit = LogisticRegression(penalty='l2', random_state=RANDOM_STATE)\n",
    "gs = GridSearchCV(estimator=logit, param_grid={'tol': [1e-3, 1e-4], \n",
    "                                              'C': [0.2, 0.3, 0.4, 0.5, 0.7, 0.9, 1.1, 1., 1.3],\n",
    "                                            'solver': ['liblinear'],\n",
    "                                            'max_iter': [50, 200, 700],\n",
    "                                              },\n",
    "\n",
    "                  scoring='accuracy', cv=skf)\n",
    "gs.fit(X_train_poly, y_train);\n",
    "gs.best_params_"
   ]
  },
  {
   "cell_type": "code",
   "execution_count": 124,
   "metadata": {},
   "outputs": [
    {
     "name": "stdout",
     "output_type": "stream",
     "text": [
      "ROC AUC: 0.8406865472348949\n"
     ]
    }
   ],
   "source": [
    "params = {'C': 0.2,\n",
    " 'class_weight': None,\n",
    " 'max_iter': 50,\n",
    " 'penalty': 'l2',\n",
    " 'solver': 'liblinear',\n",
    " 'tol': 0.001\n",
    "         } \n",
    "logit = LogisticRegression(**params, random_state=RANDOM_STATE)\n",
    "logit.fit(X_train_poly, y_train)\n",
    "y_preds = logit.predict(X_valid_poly)\n",
    "print('ROC AUC:', roc_auc_score(y_preds, y_valid))"
   ]
  },
  {
   "cell_type": "markdown",
   "metadata": {},
   "source": [
    "### Submission #005"
   ]
  },
  {
   "cell_type": "code",
   "execution_count": 125,
   "metadata": {},
   "outputs": [],
   "source": [
    "poly = PolynomialFeatures(2)\n",
    "X_poly = poly.fit_transform(X)\n",
    "X_test_poly = poly.fit_transform(X_test)"
   ]
  },
  {
   "cell_type": "code",
   "execution_count": 126,
   "metadata": {},
   "outputs": [
    {
     "data": {
      "text/plain": [
       "{'C': 0.3, 'max_iter': 50, 'solver': 'liblinear', 'tol': 0.001}"
      ]
     },
     "execution_count": 126,
     "metadata": {},
     "output_type": "execute_result"
    }
   ],
   "source": [
    "logit = LogisticRegression(penalty='l2', random_state=RANDOM_STATE)\n",
    "gs = GridSearchCV(estimator=logit, param_grid={'tol': [1e-3, 1e-4], \n",
    "                                              'C': [0.2, 0.3, 0.4, 0.5, 0.7, 0.9, 1.1, 1., 1.3],\n",
    "                                            'solver': ['liblinear'],\n",
    "                                            'max_iter': [50, 200, 200, 700],\n",
    "                                              },\n",
    "\n",
    "                  scoring='accuracy', cv=skf)\n",
    "gs.fit(X_poly, y);\n",
    "gs.best_params_"
   ]
  },
  {
   "cell_type": "code",
   "execution_count": 127,
   "metadata": {},
   "outputs": [],
   "source": [
    "params = {'C': 0.3,\n",
    " 'class_weight': None,\n",
    " 'max_iter': 50,\n",
    " 'solver': 'liblinear',\n",
    " 'tol': 0.001\n",
    "         }\n",
    "logit = LogisticRegression(**params, random_state=RANDOM_STATE)\n",
    "logit.fit(X_poly, y)\n",
    "y_preds = logit.predict(X_test_poly)\n"
   ]
  },
  {
   "cell_type": "code",
   "execution_count": 128,
   "metadata": {
    "scrolled": true
   },
   "outputs": [
    {
     "data": {
      "text/plain": [
       "0    269\n",
       "1    149\n",
       "Name: Survived, dtype: int64"
      ]
     },
     "execution_count": 128,
     "metadata": {},
     "output_type": "execute_result"
    }
   ],
   "source": [
    "y_fin = pd.DataFrame(y_preds, columns=['Survived'], index=X_test.index)\n",
    "y_fin.Survived.value_counts()"
   ]
  },
  {
   "cell_type": "code",
   "execution_count": 129,
   "metadata": {},
   "outputs": [],
   "source": [
    "y_fin.to_csv('submissions/logit_poly_002.csv', header=True, index_label='PassengerId') #0.78468"
   ]
  },
  {
   "cell_type": "code",
   "execution_count": null,
   "metadata": {},
   "outputs": [],
   "source": []
  },
  {
   "cell_type": "markdown",
   "metadata": {},
   "source": [
    "### Submission #006"
   ]
  },
  {
   "cell_type": "code",
   "execution_count": 141,
   "metadata": {},
   "outputs": [
    {
     "data": {
      "text/plain": [
       "{'C': 0.09, 'max_iter': 700, 'solver': 'sag', 'tol': 0.001}"
      ]
     },
     "execution_count": 141,
     "metadata": {},
     "output_type": "execute_result"
    }
   ],
   "source": [
    "logit = LogisticRegression(penalty='l2', random_state=RANDOM_STATE)\n",
    "gs = GridSearchCV(estimator=logit, param_grid={'tol': [1e-3], \n",
    "                                              'C': [0.07, 0.08, 0.09, 0.1, 0.2, 0.4],\n",
    "                                            'solver': ['sag'],\n",
    "                                            'max_iter': [700],\n",
    "                                              },\n",
    "\n",
    "                  scoring='accuracy', cv=skf)\n",
    "gs.fit(X_poly, y);\n",
    "gs.best_params_"
   ]
  },
  {
   "cell_type": "code",
   "execution_count": 142,
   "metadata": {},
   "outputs": [],
   "source": [
    "params = {'C': 0.09, 'max_iter': 700, 'solver': 'sag', 'tol': 0.001}\n",
    "logit = LogisticRegression(**params, random_state=RANDOM_STATE)\n",
    "logit.fit(X_poly, y)\n",
    "y_preds = logit.predict(X_test_poly)\n"
   ]
  },
  {
   "cell_type": "code",
   "execution_count": 143,
   "metadata": {
    "scrolled": true
   },
   "outputs": [
    {
     "data": {
      "text/plain": [
       "0    263\n",
       "1    155\n",
       "Name: Survived, dtype: int64"
      ]
     },
     "execution_count": 143,
     "metadata": {},
     "output_type": "execute_result"
    }
   ],
   "source": [
    "y_fin = pd.DataFrame(y_preds, columns=['Survived'], index=X_test.index)\n",
    "y_fin.Survived.value_counts()"
   ]
  },
  {
   "cell_type": "code",
   "execution_count": 144,
   "metadata": {},
   "outputs": [],
   "source": [
    "y_fin.to_csv('submissions/logit_poly_003.csv', header=True, index_label='PassengerId') #0.78947"
   ]
  },
  {
   "cell_type": "code",
   "execution_count": null,
   "metadata": {},
   "outputs": [],
   "source": []
  },
  {
   "cell_type": "markdown",
   "metadata": {},
   "source": [
    "### Submission #007"
   ]
  },
  {
   "cell_type": "code",
   "execution_count": 146,
   "metadata": {},
   "outputs": [
    {
     "data": {
      "text/plain": [
       "{'C': 0.2, 'max_iter': 700, 'solver': 'lbfgs', 'tol': 0.001}"
      ]
     },
     "execution_count": 146,
     "metadata": {},
     "output_type": "execute_result"
    }
   ],
   "source": [
    "logit = LogisticRegression(penalty='l2', random_state=RANDOM_STATE)\n",
    "gs = GridSearchCV(estimator=logit, param_grid={'tol': [1e-3], \n",
    "                                              'C': [0.07, 0.08, 0.09, 0.1, 0.2, 0.4],\n",
    "                                            'solver': ['lbfgs'],\n",
    "                                            'max_iter': [700],\n",
    "                                              },\n",
    "\n",
    "                  scoring='accuracy', cv=skf)\n",
    "gs.fit(X_poly, y);\n",
    "gs.best_params_"
   ]
  },
  {
   "cell_type": "code",
   "execution_count": 147,
   "metadata": {},
   "outputs": [],
   "source": [
    "params = {'C': 0.2, 'max_iter': 700, 'solver': 'lbfgs', 'tol': 0.001}\n",
    "logit = LogisticRegression(**params, random_state=RANDOM_STATE)\n",
    "logit.fit(X_poly, y)\n",
    "y_preds = logit.predict(X_test_poly)\n"
   ]
  },
  {
   "cell_type": "code",
   "execution_count": 148,
   "metadata": {
    "scrolled": true
   },
   "outputs": [
    {
     "data": {
      "text/plain": [
       "0    267\n",
       "1    151\n",
       "Name: Survived, dtype: int64"
      ]
     },
     "execution_count": 148,
     "metadata": {},
     "output_type": "execute_result"
    }
   ],
   "source": [
    "y_fin = pd.DataFrame(y_preds, columns=['Survived'], index=X_test.index)\n",
    "y_fin.Survived.value_counts()"
   ]
  },
  {
   "cell_type": "code",
   "execution_count": 149,
   "metadata": {},
   "outputs": [],
   "source": [
    "y_fin.to_csv('submissions/logit_poly_004.csv', header=True, index_label='PassengerId') #.7799"
   ]
  },
  {
   "cell_type": "code",
   "execution_count": null,
   "metadata": {},
   "outputs": [],
   "source": []
  },
  {
   "cell_type": "code",
   "execution_count": null,
   "metadata": {},
   "outputs": [],
   "source": []
  }
 ],
 "metadata": {
  "kernelspec": {
   "display_name": "Python 3",
   "language": "python",
   "name": "python3"
  },
  "language_info": {
   "codemirror_mode": {
    "name": "ipython",
    "version": 3
   },
   "file_extension": ".py",
   "mimetype": "text/x-python",
   "name": "python",
   "nbconvert_exporter": "python",
   "pygments_lexer": "ipython3",
   "version": "3.6.5"
  }
 },
 "nbformat": 4,
 "nbformat_minor": 2
}
